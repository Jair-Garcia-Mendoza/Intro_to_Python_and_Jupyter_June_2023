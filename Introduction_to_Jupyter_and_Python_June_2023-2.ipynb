{
  "cells": [
    {
      "cell_type": "markdown",
      "metadata": {
        "t": true,
        "tags": [],
        "toc": true,
        "id": "RchhAdKCJ3xs"
      },
      "source": [
        "<h1>Table of Contents<span class=\"tocSkip\"></span></h1>\n",
        "<div class=\"toc\"><ul class=\"toc-item\"><li><span><a href=\"#An-introduction-to-Jupyter-notebooks-and-Python\" data-toc-modified-id=\"An-introduction-to-Jupyter-notebooks-and-Python-1\"><span class=\"toc-item-num\">An introduction to Jupyter notebooks and Python</a></span><ul class=\"toc-item\">\n",
        "    <li><span><a href=\"#What-is-&quot;coding&quot;-anyway?\"><span class=\"toc-item-num\">1&nbsp;&nbsp;</span>What is \"coding\" anyway?</a></span></li>\n",
        "    <li><span><a href=\"#Learning-Objectives\" data-toc-modified-id=\"Learning-Objectives:-1.2\"><span class=\"toc-item-num\">2&nbsp;&nbsp;</span>Learning Objectives</a></span></li>\n",
        "    <li><span><a href=\"#Data-Types---You-have-seen-this-before-in-Excel!\" data-toc-modified-id=\"Data-Types---You-have-seen-this-before-in-Excel!-1.3\"><span class=\"toc-item-num\">3&nbsp;&nbsp;</span>Data Types</a></span><ul class=\"toc-item\">\n",
        "        <li><span><a href=\"#Numeric-Data-Types\" data-toc-modified-id=\"Numeric-Data-Types:-Int-and-Float-1.3.1\"><span class=\"toc-item-num\">3.1&nbsp;&nbsp;</span>Numeric Data Types</a></span></li>\n",
        "        <li><span><a href=\"#Integers-vs-floats\" data-toc-modified-id=\"Integers-vs-floats-1.3.2\"><span class=\"toc-item-num\">3.2&nbsp;&nbsp;</span>Integers vs Floats</a></span></li>\n",
        "        <li><span><a href=\"#A-introduction-to-text-data-with-Strings\" data-toc-modified-id=\"A-introduction-to-text-data-with-Strings-1.3.3\"><span class=\"toc-item-num\">3.3&nbsp;&nbsp;</span>Strings</a></span></li>\n",
        "        <li><span><a href=\"#Discussion-Question\" data-toc-modified-id=\"Discussion-Question-1.3.4\"><span class=\"toc-item-num\">3.4&nbsp;&nbsp;</span>Poll</a></span></li></ul></li>\n",
        "    <li><span><a href=\"#Introduction-to-functions\" data-toc-modified-id=\"Introduction-to-functions-1.4\"><span class=\"toc-item-num\">4&nbsp;&nbsp;</span>Functions</a></span><ul class=\"toc-item\">\n",
        "        <li><span><a href=\"#Data-Type-Functions\" data-toc-modified-id=\"Data-Type-Functions-1.4.1\"><span class=\"toc-item-num\">4.1&nbsp;&nbsp;</span>Data Type Functions</a></span></li></ul></li>\n",
        "    <li><span><a href=\"#Reading-errors-like-a-Detective!\" data-toc-modified-id=\"Reading-errors-like-a-Detective!-1.5\"><span class=\"toc-item-num\">5&nbsp;&nbsp;</span>Errors</a></span></li>\n",
        "    <li><span><a href=\"#Data-Type-Coercion:-Make-the-data-the-type-you-want-it-to-be!-You-are-the-boss!\" data-toc-modified-id=\"Data-Type-Coercion:-Make-the-data-the-type-you-want-it-to-be!-You-are-the-boss!-1.6\"><span class=\"toc-item-num\">6&nbsp;&nbsp;</span>Data Type Coercion</a></span><ul class=\"toc-item\">\n",
        "        <li><span><a href=\"#Data-Coersion-challenges\" data-toc-modified-id=\"Data-Coersion-challenges-1.6.1\"><span class=\"toc-item-num\">6.1&nbsp;&nbsp;</span>Challenges</a></span></li></ul></li>\n",
        "    <li><span><a href=\"#Lets-look-at-some-more-String-Specific-&quot;functions&quot;-aka-Methods\" data-toc-modified-id=\"Lets-look-at-some-more-String-Specific-&quot;functions&quot;-aka-Methods-1.7\"><span class=\"toc-item-num\">7&nbsp;&nbsp;</span>Methods</a></span><ul class=\"toc-item\">\n",
        "        <li><span><a href=\"#Google-cize:-There-are-quite-a-few-string-methods-Methods?:\" data-toc-modified-id=\"Google-cize:-There-are-quite-a-few-string-methods-Methods?:-1.7.1\"><span class=\"toc-item-num\">7.1&nbsp;&nbsp;</span>Challenge</a></span></li></ul></li>\n",
        "    <li><span><a href=\"#The-Print()-function\" data-toc-modified-id=\"The-Print()-function-1.8\"><span class=\"toc-item-num\">8&nbsp;&nbsp;</span>The Print() function</a></span><ul class=\"toc-item\">\n",
        "        <li><span><a href=\"#Silent-errors\" data-toc-modified-id=\"Silent-errors-1.8.2\"><span class=\"toc-item-num\">8.1&nbsp;&nbsp;</span>Silent errors</a></span></li></ul></li>\n",
        "    <li><span><a href=\"#Debugging\" data-toc-modified-id=\"Debugging-1.9\"><span class=\"toc-item-num\">9&nbsp;&nbsp;</span>Debugging</a></span></li>\n",
        "    <li><span><a href=\"#Variables\" data-toc-modified-id=\"Variables-1.9\"><span class=\"toc-item-num\">10&nbsp;&nbsp;</span>Variables</a></span><ul class=\"toc-item\">\n",
        "        <li><span><a href=\"#The-dark-art-of-variable-Names\" data-toc-modified-id=\"The-dark-art-of-variable-Names-1.9.1\"><span class=\"toc-item-num\">10.1&nbsp;&nbsp;</span>Variable Names</a></span></li>\n",
        "        <li><span><a href=\"Variable-Names-Challenges\" data-toc-modified-id=\"Variable-Names-Challenges-1.10\"><span class=\"toc-item-num\">10.2&nbsp;&nbsp;</span>Challenges</a></span></li></ul></li>\n",
        "    <li><span><a href=\"#Quiz\" data-toc-modified-id=\"Quiz-1.11\"><span class=\"toc-item-num\">11&nbsp;&nbsp;</span>Quiz</a></span></li>\n",
        "</div>"
      ]
    },
    {
      "cell_type": "markdown",
      "metadata": {
        "id": "2AHXHU78J3xx"
      },
      "source": [
        "# An introduction to Jupyter notebooks and Python"
      ]
    },
    {
      "cell_type": "markdown",
      "source": [
        "# Ice breaker\n",
        "\n",
        "Deep thoughts: Why are you learning how to code?\n",
        "\n",
        "Jump to the Etherpad and share your thoughts https://go.unimelb.edu.au/5r2s"
      ],
      "metadata": {
        "id": "pBFjUJG1DmyH"
      }
    },
    {
      "cell_type": "markdown",
      "source": [
        "![Python_digital_skills_etherpad_June_21_2023.png](data:image/png;base64,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)"
      ],
      "metadata": {
        "id": "6oY8stynBIHE"
      }
    },
    {
      "cell_type": "markdown",
      "metadata": {
        "id": "6LWK3VBqJ3xx"
      },
      "source": [
        "## Why Python?\n",
        "\n",
        "Python consistently ranks as one of the most popular programming languages."
      ]
    },
    {
      "cell_type": "markdown",
      "metadata": {
        "id": "ofvztXLHJ3xx"
      },
      "source": [
        "<center><img src=\"https://files.gitbook.com/v0/b/gitbook-x-prod.appspot.com/o/spaces%2FlM3TzLEoziVc6PkglgAb%2Fuploads%2FBCORMTmnY17bAt2yv1Zw%2Findemand.gif?alt=media&token=55cf8193-a4b5-4985-827d-3a1a1d2756fb\" alt=\"indemand.gif\" width=\"600\"/></center>"
      ]
    },
    {
      "cell_type": "markdown",
      "metadata": {
        "id": "IzsXWXliJ3xy"
      },
      "source": [
        "## Python is popular for a number of reasons\n",
        "\n",
        "- Free and Open Source (FOSS), so it's easily accessible.\n",
        "- Powerful and fast, so you can achieve a lot quickly.\n",
        "- \"Jack of all trades\"\n",
        "- Lots of packages, so you can work smarter and use the work already done by others.\n",
        "- Easy to learn, so it's an ideal first language."
      ]
    },
    {
      "cell_type": "markdown",
      "metadata": {
        "id": "kmY1QoKeJ3xy"
      },
      "source": [
        "## Video\n",
        "\n",
        "### Tame your data with Python: https://youtu.be/VimJQ-mIAik"
      ]
    },
    {
      "cell_type": "markdown",
      "metadata": {
        "id": "XNrSDWXWJ3xy"
      },
      "source": [
        "<center><img src=\"https://files.gitbook.com/v0/b/gitbook-x-prod.appspot.com/o/spaces%2FlM3TzLEoziVc6PkglgAb%2Fuploads%2FzPFWxvccyfaHam2PZqD9%2FPython_video.png?alt=media&token=566b4e29-57b1-41ea-907d-4f7c0f5416c7\" alt=\"video.png\" width=\"600\"/></center>"
      ]
    },
    {
      "cell_type": "markdown",
      "metadata": {
        "id": "RdwotJGNJ3xy"
      },
      "source": [
        "## History of Python\n",
        "\n",
        "Dutch programmer Guido van Rossum is Python's \"benevolent dictator for life\", originally starting to implement Python in December 1989.\n",
        "\n",
        "Python 2.0 was released on 16 October 2000, with lots of major new features. On 3 December 2008, Python 3.0 was then released.\n",
        "\n",
        "Since early 2020 Python 2.7, the last version of Python 2.0, is no longer maintained."
      ]
    },
    {
      "cell_type": "markdown",
      "metadata": {
        "id": "f2utv5jvJ3xz"
      },
      "source": [
        "### Monty Python's Flying Circus\n",
        "\n",
        "This is the origin of Python's name.\n",
        "\n",
        "<center><img src=\"https://m.media-amazon.com/images/M/MV5BOTFmYTc3ZWEtNTYxNi00OTA4LTk2NjEtNTI2MTJlNzkyMDdlXkEyXkFqcGdeQWpybA@@._V1_.jpg\" alt=\"Monty_Python.png\" width=\"600\"/></center>"
      ]
    },
    {
      "cell_type": "markdown",
      "metadata": {
        "id": "_sawiIDkJ3xz"
      },
      "source": [
        "### Homework task\n",
        "\n",
        "Watch some sketches from the Monty Python's Flying Circus series."
      ]
    },
    {
      "cell_type": "markdown",
      "metadata": {
        "id": "AMS-HZGeJ3xz"
      },
      "source": [
        "## What is \"coding\" anyway?"
      ]
    },
    {
      "cell_type": "markdown",
      "metadata": {
        "id": "UhMhpyhJJ3xz"
      },
      "source": [
        "  <p>Python is by many metrics the most popular programming language in the world, As it can do almost everything, thats why there are also a near infinite online trainings to learn Python.... But as  researcher, why not just stick to the old tried and true methods: the abacus, the pen and paper, or if you dare... Excel? </p>\n",
        "</div>\n",
        "\n"
      ]
    },
    {
      "cell_type": "markdown",
      "metadata": {
        "heading_collapsed": true,
        "id": "XmIWEkkeJ3xz"
      },
      "source": [
        "### Reasons why you should learn <a class=\"tocSkip\">\n",
        "\n",
        " - **All** Researchers are data scientists\n",
        " - You can go from **months** to **minutes** by **automating the boring stuff!**\n",
        " - Coding leaves a **readable list of instructions** describing your **methods**\n",
        " - Every time we automate a task, we **reduce the chances of getting it wrong** the next time."
      ]
    },
    {
      "cell_type": "markdown",
      "metadata": {
        "tags": [],
        "id": "gz8bRxFjJ3x0"
      },
      "source": [
        "### And because you are tired of this I hope?"
      ]
    },
    {
      "cell_type": "markdown",
      "metadata": {
        "tags": [],
        "id": "ECkwOzTiJ3x0"
      },
      "source": [
        "<center><img src=\"https://www.zdnet.com/a/img/resize/6dc227d3ea1e76ab96dfd773f51ab8965f580d32/2021/01/26/5e33e517-c667-4f78-a233-68b98e47be9c/canvas-scrolling.gif?width=470&fit=bounds&auto=webp\" alt=\"Excel.gif\" width=\"600\"/></center>"
      ]
    },
    {
      "cell_type": "markdown",
      "metadata": {
        "id": "UpGbm-JkJ3x0"
      },
      "source": [
        "Spreadsheets actually hide the analysis behind the data, making it even harder to track your steps when doing the innovative, elegant work you will do for your thesis!"
      ]
    },
    {
      "cell_type": "markdown",
      "metadata": {
        "tags": [],
        "id": "9lnKlkB3J3x1"
      },
      "source": [
        "### Isn't coding hard though? Luckily, you probably already know how to Code!"
      ]
    },
    {
      "cell_type": "markdown",
      "metadata": {
        "id": "YFRP34N1J3x1"
      },
      "source": [
        "<center><img src=\"https://files.gitbook.com/v0/b/gitbook-x-prod.appspot.com/o/spaces%2FlM3TzLEoziVc6PkglgAb%2Fuploads%2FXvpnyS5UZC3nqBNuOq6E%2Falready_know_howto_code.png?alt=media&token=3f4b2df7-9460-4225-a0c5-200467e259a2\" alt=\"How-to-Find-Mean-in-Excel.png\" width=\"600\"/></center>"
      ]
    },
    {
      "cell_type": "markdown",
      "metadata": {
        "id": "lKI4gSNyJ3x1"
      },
      "source": [
        "<div class=\"alert alert-success\" role=\"alert\">\n",
        "<p>If you have ever balanced your budget in a spreadsheet, or used a function like AVERAGE(), then you have essentially used a simplified version of a programming language and you are most of the way there!</p>\n",
        "    </div>"
      ]
    },
    {
      "cell_type": "markdown",
      "source": [
        "## Intro to Google's Colab"
      ],
      "metadata": {
        "id": "lJMZpAgTCAFo"
      }
    },
    {
      "cell_type": "markdown",
      "source": [
        "There are many ways to interact with Python. Here we will use Jupyter Notebooks via Google's Colab (https://colab.research.google.com/).\n",
        "\n",
        "* You will need your Google credentials or create an account to\n",
        "create and edit your Notebooks.\n",
        "* Colab is linked to your Google Drive by default, so you can access and create Notebooks from there also.\n",
        "* To create a new Colab notebook, go to File > New Notebook\n",
        "\n",
        "More on how to interact with your notebook later."
      ],
      "metadata": {
        "id": "Tb6TUjwQa47u"
      }
    },
    {
      "cell_type": "markdown",
      "metadata": {
        "id": "GbUEpDPeJ3x1"
      },
      "source": [
        "#### Python version of taking the mean:"
      ]
    },
    {
      "cell_type": "code",
      "execution_count": null,
      "metadata": {
        "id": "prJWyi-vJ3x2"
      },
      "outputs": [],
      "source": [
        "# We are just putting our data in different places\n",
        "b = [1,2,3]\n",
        "\n",
        "# And using different commands to do the same things\n",
        "import numpy as np\n",
        "np.mean(b)"
      ]
    },
    {
      "cell_type": "markdown",
      "metadata": {
        "id": "ExfG2T5YJ3x3"
      },
      "source": [
        "### We just need to learn how to load and manipulate our data (like cells in a spreadsheet), and how to use Python functions <a class=\"tocSkip\">"
      ]
    },
    {
      "cell_type": "markdown",
      "metadata": {
        "id": "5SgwuG_AJ3x3"
      },
      "source": [
        "The problem is that there are so many functions and ways to store data available to us in Python (after all, it is ***super*** popular), that we only have time to cover a teeny tiny bit of it...\n"
      ]
    },
    {
      "cell_type": "markdown",
      "metadata": {
        "id": "mPxcRoB7J3x3"
      },
      "source": [
        "### But what we will do in this workshop, is build a foundation <a class=\"tocSkip\">"
      ]
    },
    {
      "cell_type": "markdown",
      "metadata": {
        "id": "Ol1JeFj5J3x3"
      },
      "source": [
        " - By learning the **syntax** around the basic programming structures.\n",
        " - The **jargon** that programmers use to talk about Python.\n",
        " - Introducing foundational programming **concepts**."
      ]
    },
    {
      "cell_type": "markdown",
      "metadata": {
        "tags": [],
        "id": "a8CtIXlfJ3x3"
      },
      "source": [
        "### The learning outcome of this course is to teach you, how to teach yourself, how to code <a class=\"tocSkip\">"
      ]
    },
    {
      "cell_type": "markdown",
      "metadata": {
        "id": "bTg5o292J3x4"
      },
      "source": [
        "<center><img src=\"https://c.tenor.com/AYMue_7NNo8AAAAM/tom-cruise-help.gif\" width=\"700\" alt=\"Help me help you\"></center>"
      ]
    },
    {
      "cell_type": "markdown",
      "metadata": {
        "id": "x4N4K2_MJ3x4"
      },
      "source": [
        "# Jupyter Notebooks (with Colab's flavour!)\n",
        "\n",
        "\n",
        "Each of the \"boxes\" you can see here are called \"cells\", and these allow you to write and run code, or take notes. Every time you make a new cell it defaults to being a \"code\" cell, for programming.\n",
        "\n",
        "However, you'll notice that this section is just plain text. This is known as a \"markdown\" cell, and this can be used to take notes, or even to help format reports. You can change whether a cell is in the markdown or code format using the toggle bar up the top.\n",
        "\n",
        "There are also a range of keyboard shortcuts that allow you to easily perform a variety of actions on these cells. You can find Reference guides under the \"Tools\" menu item, or use the \"Command Palette\" (Tools -> Activate Command Palette or Ctrl+Shift+P). There is a short list of useful shortcuts on the Etherpad as well.\n",
        "\n",
        "These shortcuts are extremely helpful, and will allow you to easily do things like create or delete \"cells\", move them around the notebook, run your cells, etc.\n"
      ]
    },
    {
      "cell_type": "code",
      "source": [
        "print(\"Hello, World!\")"
      ],
      "metadata": {
        "id": "7mpSgWaxMXRt"
      },
      "execution_count": null,
      "outputs": []
    },
    {
      "cell_type": "markdown",
      "metadata": {
        "id": "q3TsWHsDJ3x4"
      },
      "source": [
        "You may have noticed while playing around that 'running' a code cell gives you some errors. This may be because the cell didn't contain any *commands* that the computer could recognise."
      ]
    },
    {
      "cell_type": "code",
      "execution_count": null,
      "metadata": {
        "id": "L_ES6kFyJ3x4"
      },
      "outputs": [],
      "source": [
        "#To \"run\" a cell, you can use the keyboard shortcut: Ctrl + (Command/Alt) + Enter,\n",
        "# or the control bar\n",
        "Coding Stuff!"
      ]
    },
    {
      "cell_type": "markdown",
      "metadata": {
        "id": "r9qAf4qEJ3x5"
      },
      "source": [
        "### Python is like a well behaved dog <a class=\"tocSkip\">\n",
        "\n",
        "<center><img src=\"https://c.tenor.com/dlR0fHyUy0AAAAAM/dog-fail.gif\" alt=\"Training_a_dog.gif\" width=\"600\"/></center>"
      ]
    },
    {
      "cell_type": "markdown",
      "metadata": {
        "id": "A6bekPjtJ3x5"
      },
      "source": [
        "Python, the programming language, is essentially just a system of commands that lets you command the computer to do the tricks that you want it to do. Imagine that your computer is like a very well trained dog that you've adopted from the shelter, and now you need to learn what commands your computer-dog responds to. Unlike the dog though, it's much easier to try and learn the commands that the computer already knows, rather than try to teach the computer how to use, say, English. We'll leave that to the artificial intelligence developers."
      ]
    },
    {
      "cell_type": "markdown",
      "metadata": {
        "id": "mWedHJAlJ3x6"
      },
      "source": [
        "### Scripting is just giving this dog a list of instructions <a class=\"tocSkip\">\n",
        "\n",
        "\n",
        "<center><img src=\"https://files.gitbook.com/v0/b/gitbook-x-prod.appspot.com/o/spaces%2FlM3TzLEoziVc6PkglgAb%2Fuploads%2FtuDueV7x9aIBLBc8Rclo%2FDr_evil.png?alt=media&token=68c3d473-3187-44f8-af68-2a00ce6fd165\" alt=\"Dr Evil\" style=\"width:auto;height:70vh\"></center>\n",
        "\n",
        "<!-- ![image.png](attachment:image.png) -->\n"
      ]
    },
    {
      "cell_type": "markdown",
      "metadata": {
        "id": "CMRtIsQ3J3x6"
      },
      "source": [
        "### Computer code is just like a list of instructions to cook a meal <a class=\"tocSkip\">\n",
        "\n",
        "Means we have to write these instructions:\n",
        "\n",
        "    1. In a logical order\n",
        "    2. Explicitly (don't skip any details)\n",
        "    3. Written in the dog's language"
      ]
    },
    {
      "cell_type": "markdown",
      "metadata": {
        "id": "1YW2OkEBJ3x6"
      },
      "source": [
        "### And much like a kitchen, you have *ingredients, or data*  <a class=\"tocSkip\">\n",
        "\n",
        "```python\n",
        "ingredients = [dough, tomato, mozzarella, basil]\n",
        "```\n",
        "\n",
        "<center><img src=\"https://images.ctfassets.net/2x1b56neok6m/au-media-4208-asset/06dbd348cc12a509ee4064fb82a232bb/shutterstock_1544610410-3.jpg\" alt=\"Pizza\" width=\"700\"></center>\n",
        "\n",
        "<!-- ![image.png](attachment:image.png) -->\n"
      ]
    },
    {
      "cell_type": "markdown",
      "metadata": {
        "id": "zbkZrD2nJ3x7"
      },
      "source": [
        "### And much like a kitchen, you have your cooking tools and actions or *functions, methods, and packages* <a class=\"tocSkip\">\n",
        "\n",
        "```python\n",
        "pizza = baking(ingredients, temperature = '200 Degrees C', time = '12 minutes')\n",
        "```\n",
        "\n",
        "<figure>\n",
        "    <center><img src=\"https://www.stockvault.net/data/2016/06/27/203231/preview16.jpg\" alt=\"Pizza in oven\" style=\"width:auto;height:50vh\">\n",
        "    </center>\n",
        "</figure>\n",
        "<!-- ![image.png](attachment:image.png) -->"
      ]
    },
    {
      "cell_type": "markdown",
      "metadata": {
        "id": "jiSfM1T4J3x7"
      },
      "source": [
        "## Learning Objectives\n",
        "- Discover the basic *\"ingredients\"* in Python i.e. numeric and string **data types**.\n",
        "- Use some basic *\"cooking tools\"* in Python i.e. **functions** and **methods**.\n",
        "- Be able to apply basic type-specific functions.\n",
        "- Know how to assign something to a **variable**, and perform basic operations on it.\n",
        "- Understand how to identify basic **errors** in Python and have access to some options for solving these."
      ]
    },
    {
      "cell_type": "markdown",
      "metadata": {
        "id": "mgOXOolfJ3x7"
      },
      "source": [
        "# Data Types\n",
        "\n",
        "## *All animals are equal, but some animals are more equal than others*  -- G. Orwell\n",
        "\n",
        "### You have likely seen this before in Excel!\n",
        "\n",
        "<center><img src=\"https://files.gitbook.com/v0/b/gitbook-x-prod.appspot.com/o/spaces%2FlM3TzLEoziVc6PkglgAb%2Fuploads%2FfmyfHDMR9HzsolXJD3S0%2Fdtypes_excel.png?alt=media&token=c21517ea-ea5b-4cf4-9813-6bdbbc2bb417\" alt=\"Excel data types\" style=\"width:auto;height:40vh\"></center>"
      ]
    },
    {
      "cell_type": "markdown",
      "metadata": {
        "id": "vHhV2tChJ3x8"
      },
      "source": [
        "### Numeric Data Types\n",
        "\n",
        "There are two different types of ways that Python uses **_numeric_** data\n",
        "- whole number integers (`int`).\n",
        "- decimals (floating point numbers, `float`).\n",
        "\n",
        "\n",
        "\n",
        "You can do almost the same things with floats as you can with integers, except the results you get will have a greater precision.\n",
        "\n",
        "Using numeric data types, you can do all kinds of simple (and more complex) arithmetic:"
      ]
    },
    {
      "cell_type": "markdown",
      "metadata": {
        "id": "3uQCieauJ3x8"
      },
      "source": [
        "## Python, the Calculator <a class=\"tocSkip\">"
      ]
    },
    {
      "cell_type": "code",
      "execution_count": null,
      "metadata": {
        "id": "4YiN_e-rJ3x8"
      },
      "outputs": [],
      "source": [
        "# You can add and subtract numbers\n",
        "5 - 3"
      ]
    },
    {
      "cell_type": "code",
      "execution_count": null,
      "metadata": {
        "id": "xuMESe13J3x8"
      },
      "outputs": [],
      "source": [
        "# Work with negative numbers\n",
        "-5 + 2"
      ]
    },
    {
      "cell_type": "code",
      "execution_count": null,
      "metadata": {
        "id": "oIrFKS9MJ3x9"
      },
      "outputs": [],
      "source": [
        "# Notice how decimal information is stored in floats\n",
        "4. + 5."
      ]
    },
    {
      "cell_type": "code",
      "execution_count": null,
      "metadata": {
        "id": "aT8S3BJoJ3x9"
      },
      "outputs": [],
      "source": [
        "# As well as multiply\n",
        "5 * 2"
      ]
    },
    {
      "cell_type": "code",
      "execution_count": null,
      "metadata": {
        "id": "jithdUU-J3x9"
      },
      "outputs": [],
      "source": [
        "# You can square numbers using the \"power\" command: **\n",
        "3 ** 2"
      ]
    },
    {
      "cell_type": "markdown",
      "metadata": {
        "id": "gO36AlriJ3x9"
      },
      "source": [
        "### Some more interesting commands.... <a class=\"tocSkip\">"
      ]
    },
    {
      "cell_type": "code",
      "execution_count": null,
      "metadata": {
        "id": "XzOFr8H9J3x-"
      },
      "outputs": [],
      "source": [
        "# And even use a few different commands, like:\n",
        "# Division: /, and floor division: //\n",
        "7 / 2"
      ]
    },
    {
      "cell_type": "code",
      "execution_count": null,
      "metadata": {
        "id": "j082X8dAJ3x-"
      },
      "outputs": [],
      "source": [
        "# Taking the floor is like division,\n",
        "# but we round down to the nearest integer\n",
        "7 // 2"
      ]
    },
    {
      "cell_type": "code",
      "execution_count": 1,
      "metadata": {
        "id": "h3WcZMF1J3x-",
        "colab": {
          "base_uri": "https://localhost:8080/"
        },
        "outputId": "d9c3b3f7-858f-4f82-9e42-0a28456de8f7"
      },
      "outputs": [
        {
          "output_type": "execute_result",
          "data": {
            "text/plain": [
              "1"
            ]
          },
          "metadata": {},
          "execution_count": 1
        }
      ],
      "source": [
        "# and Modulo (a.k.a the remainder): %\n",
        "# Think of this one as the amount left over after division\n",
        "7 % 2"
      ]
    },
    {
      "cell_type": "markdown",
      "source": [
        "![division_example.png](data:image/png;base64,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)"
      ],
      "metadata": {
        "id": "eCGEm7YJInmA"
      }
    },
    {
      "cell_type": "markdown",
      "metadata": {
        "id": "9B264HEGJ3x-"
      },
      "source": [
        " ### Python uses the general Algebraic Order of Operations (BODMAS/PEMDAS) rules (just like Excel) <a class=\"tocSkip\">"
      ]
    },
    {
      "cell_type": "code",
      "execution_count": null,
      "metadata": {
        "id": "SLQltD-NJ3x-"
      },
      "outputs": [],
      "source": [
        "(5 + 4) / (2 * 5)"
      ]
    },
    {
      "cell_type": "markdown",
      "metadata": {
        "id": "pr8y29WBJ3x-"
      },
      "source": [
        "### Integers vs Floats\n",
        "\n",
        "- Why even bother with integers?\n",
        "- They take up less space\n",
        "- Computations can go much faster\n",
        "- And sometimes they just make more sense\n",
        "\n",
        "\n"
      ]
    },
    {
      "cell_type": "markdown",
      "metadata": {
        "id": "HrJ2aE-gJ3x_"
      },
      "source": [
        "|Integers | || Floats ||\n",
        "|-----------|-----------|---|--------|-----------|\n",
        "| Pros | Cons || Pros | Cons |\n",
        "|less memory|no decimals (less precision)||decimals (more precision)|more memory|"
      ]
    },
    {
      "cell_type": "markdown",
      "metadata": {
        "id": "5tWICwQzJ3x_"
      },
      "source": [
        "## Challenge\n",
        "\n",
        "Use Python to perform the following operations:\n",
        "1. 15 - 21\n",
        "2. 42 x 6\n",
        "3. 57 ÷ 3\n",
        "4. 27^2\n",
        "5. The floor of 59 ÷ 3\n",
        "6. The remainder of 59 ÷ 3\n",
        "7. 8 ÷ 2(2 + 2)"
      ]
    },
    {
      "cell_type": "code",
      "source": [
        "(8/2)*2+2"
      ],
      "metadata": {
        "id": "mfCuWuJhJOUl"
      },
      "execution_count": null,
      "outputs": []
    },
    {
      "cell_type": "markdown",
      "metadata": {
        "id": "BljjpfiaJ3x_"
      },
      "source": [
        "# A introduction to text data with Strings\n",
        "\n",
        "<center><img src=\"http://25.media.tumblr.com/c66c15ce6ad3bb8c4268e254d4d0353d/tumblr_mof2n474yG1s0teago2_400.gif\" alt=\"silly_string.gif\" style=\"width:auto;height:70vh\"></center>\n",
        "\n",
        "The next  essential data type to know about are *strings*. String are essentially just text. You can tell Python that something is a string by wrapping it in \"quote marks\""
      ]
    },
    {
      "cell_type": "markdown",
      "metadata": {
        "id": "7pLVVdLHJ3x_"
      },
      "source": [
        "<center><img src=\"https://files.gitbook.com/v0/b/gitbook-x-prod.appspot.com/o/spaces%2FlM3TzLEoziVc6PkglgAb%2Fuploads%2FtuDueV7x9aIBLBc8Rclo%2FDr_evil.png?alt=media&token=68c3d473-3187-44f8-af68-2a00ce6fd165\" alt=\"Dr Evil\" style=\"width:auto;height:70vh\"></center>"
      ]
    },
    {
      "cell_type": "code",
      "execution_count": null,
      "metadata": {
        "id": "xcG56rRHJ3x_"
      },
      "outputs": [],
      "source": [
        "# You can use two types of quotes: either the double: \", or the single: '\n",
        "\"This is a string of text's\""
      ]
    },
    {
      "cell_type": "code",
      "execution_count": null,
      "metadata": {
        "id": "3JWf2JaLJ3yA"
      },
      "outputs": [],
      "source": [
        "'As is this - see, single quotes work too!'"
      ]
    },
    {
      "cell_type": "code",
      "execution_count": null,
      "metadata": {
        "id": "oI9pB90HJ3yA"
      },
      "outputs": [],
      "source": [
        "# Just remember to be consistent\n",
        "'This \"quote\" thing is pretty handy'"
      ]
    },
    {
      "cell_type": "code",
      "execution_count": null,
      "metadata": {
        "id": "nAyv47cKJ3yA"
      },
      "outputs": [],
      "source": [
        "# What happens if we add numbers as strings?\n",
        "'5' + '2'"
      ]
    },
    {
      "cell_type": "markdown",
      "metadata": {
        "id": "1SYxi2MLJ3yA"
      },
      "source": [
        "### String Arithmetic, Concatenation <a class=\"tocSkip\">\n",
        "\n",
        "We can concatenate, or stitch one string onto the end of another"
      ]
    },
    {
      "cell_type": "code",
      "execution_count": null,
      "metadata": {
        "id": "djjCwpomJ3yA"
      },
      "outputs": [],
      "source": [
        "#Example: \"FirstName\" + \"Last Name\"\n",
        "#Try it yourself! What do you notice when you add two strings?\n",
        "\"My\" + \"name\""
      ]
    },
    {
      "cell_type": "markdown",
      "metadata": {
        "id": "aYDwQ6G2J3yA"
      },
      "source": [
        "Oh no! It didn't add the space for us, I guess we have to do that ourselves..."
      ]
    },
    {
      "cell_type": "code",
      "execution_count": null,
      "metadata": {
        "id": "NdfSSBm7J3yA"
      },
      "outputs": [],
      "source": [
        "# We have two options: \"FirstName \" + \"LastName\"\n",
        "\"My \" + \"name\""
      ]
    },
    {
      "cell_type": "code",
      "execution_count": null,
      "metadata": {
        "id": "DlJogObFJ3yA"
      },
      "outputs": [],
      "source": [
        "# Or \"FirstName\" + \" \" + \"LastName\"\n",
        "'My' ' ' 'name'"
      ]
    },
    {
      "cell_type": "markdown",
      "metadata": {
        "id": "uULFOWNsJ3yB"
      },
      "source": [
        "### We can also multiply our strings by a number to duplicate it <a class=\"tocSkip\">"
      ]
    },
    {
      "cell_type": "code",
      "execution_count": null,
      "metadata": {
        "id": "AkmlQMi-J3yB"
      },
      "outputs": [],
      "source": [
        "'mine ' * 5"
      ]
    },
    {
      "cell_type": "code",
      "source": [
        "'mine' + ' 5'"
      ],
      "metadata": {
        "id": "ZQRcqERbQ1Da"
      },
      "execution_count": null,
      "outputs": []
    },
    {
      "cell_type": "markdown",
      "metadata": {
        "id": "lCEFQSe6J3yB"
      },
      "source": [
        "\n",
        "*this reminds me of something...*\n",
        "<center><img src=\"https://media4.giphy.com/media/kLk1Qa8mrYdQA/giphy.gif\" alt=\"Finding Nemo gif\" style=\"width:auto;height:70vh\"></center>"
      ]
    },
    {
      "cell_type": "markdown",
      "metadata": {
        "id": "rcL2z8-ZJ3yB"
      },
      "source": [
        "## Data Type Challenge\n",
        "What type of data (integer, floating point number, or character string) would you use to represent each of the following?\n",
        "\n",
        "Try to come up with more than one good answer for each problem. For example, in 1., when would using a decimal make more sense than using an integer?\n",
        "\n",
        "1. Time elapsed since the start of the year.\n",
        "2. Serial number of a piece of lab equipment.\n",
        "3. A lab specimen’s age.\n",
        "4. Current population of a city.\n",
        "5. Average population of a city over time."
      ]
    },
    {
      "cell_type": "markdown",
      "metadata": {
        "id": "5tunw7ZqJ3yB"
      },
      "source": [
        "### To answer these prompts, join the poll: https://joinmyquiz.com and enter the game code provided by your trainer. <a class=\"tocSkip\">"
      ]
    },
    {
      "cell_type": "markdown",
      "source": [
        "![image.png](data:image/png;base64,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)"
      ],
      "metadata": {
        "id": "OMBOMUtFzLXE"
      }
    },
    {
      "cell_type": "markdown",
      "metadata": {
        "id": "B34NEHKzJ3yB"
      },
      "source": [
        "<center><img src=\"https://media0.giphy.com/media/igsmXEkeyfPPgfU2yI/giphy.gif?cid=ecf05e47k6x7ixw2wfhswqt8vwd4vo35b1vccliiwp2maku5&rid=giphy.gif&ct=g\" alt=\"Time_for_a_break.gif\" style=\"width:auto;height:70vh\"></center>"
      ]
    },
    {
      "cell_type": "markdown",
      "metadata": {
        "id": "NLt4hXBnJ3yB"
      },
      "source": [
        "# Introduction to Functions\n",
        "\n",
        "### You probably already know how to use functions! <a class=\"tocSkip\">\n",
        "\n",
        "<center><img src=\"https://files.gitbook.com/v0/b/gitbook-x-prod.appspot.com/o/spaces%2FlM3TzLEoziVc6PkglgAb%2Fuploads%2FXvpnyS5UZC3nqBNuOq6E%2Falready_know_howto_code.png?alt=media&token=3f4b2df7-9460-4225-a0c5-200467e259a2\" alt=\"Excel_average.png\" style=\"width:auto;height:70vh\"></center>\n",
        "\n",
        "### Basic form of a function in Python: <a class=\"tocSkip\">\n",
        "`function(object or objects, arguments)`"
      ]
    },
    {
      "cell_type": "markdown",
      "metadata": {
        "id": "CR1Sg-4XJ3yB"
      },
      "source": [
        "### Data Type Functions\n",
        "\n",
        "- Sometimes you *need* to know which data type you're working with. You can do this with a **function**, called `type()`.\n",
        "- In this instance, `type()` will output the data type that you're working with."
      ]
    },
    {
      "cell_type": "code",
      "execution_count": null,
      "metadata": {
        "id": "KCxMyzb_J3yC"
      },
      "outputs": [],
      "source": [
        "type(4)"
      ]
    },
    {
      "cell_type": "code",
      "execution_count": null,
      "metadata": {
        "id": "Z-N5T5VIJ3yC"
      },
      "outputs": [],
      "source": [
        "type(2.6)"
      ]
    },
    {
      "cell_type": "code",
      "execution_count": null,
      "metadata": {
        "id": "oJ83_yj5J3yC"
      },
      "outputs": [],
      "source": [
        "type(\"3\")"
      ]
    },
    {
      "cell_type": "markdown",
      "metadata": {
        "id": "bZqbn2hOJ3yC"
      },
      "source": [
        "### Why does the data type matter? <a class=\"tocSkip\">\n",
        "\n",
        "Some functions, like `type()`, will work on all data types\n",
        "...but that is pretty rare."
      ]
    },
    {
      "cell_type": "markdown",
      "metadata": {
        "id": "RG7XxDeDJ3yC"
      },
      "source": [
        "**Example:** `len()`, will tell you how long your string is:"
      ]
    },
    {
      "cell_type": "code",
      "execution_count": null,
      "metadata": {
        "id": "B2i6TllrJ3yC"
      },
      "outputs": [],
      "source": [
        "len(\"Give me a string\")"
      ]
    },
    {
      "cell_type": "code",
      "execution_count": null,
      "metadata": {
        "id": "tABae5MhJ3yC"
      },
      "outputs": [],
      "source": [
        "# but if we try to use it on numeric data...\n",
        "len(5000)"
      ]
    },
    {
      "cell_type": "markdown",
      "source": [],
      "metadata": {
        "id": "JapMT4pJxnng"
      }
    },
    {
      "cell_type": "markdown",
      "metadata": {
        "id": "VXvdabGRJ3yC"
      },
      "source": [
        "# Errors\n",
        "\n",
        "A bug, or *error* is any flaw in a program that prevents it from producing the desired result.\n",
        "\n",
        "- A logic error can occur when there's a flaw in the design of your code. In this case, the code will execute; however it does not do exactly what the coder intended it to do.\n",
        "- In some cases, Python will not execute your code because an error prevents it from running. This can be caused by incompatibility with the programming language, and is therefore referred to as a syntactical error.\n",
        "- A run-time error will occur whilst the program is running. This may be because Python runs out of memory or another system resource."
      ]
    },
    {
      "cell_type": "markdown",
      "metadata": {
        "id": "g0MC39spJ3yC"
      },
      "source": [
        "## Reading errors like a Detective!\n",
        "\n",
        "Every time an error occurs in your script, a crime has been committed, and every crime can be solved, by looking at the clues!\n",
        "\n",
        "We even made a crime drama about it...\n",
        "\n",
        "## [Watch *Law and Error*](https://youtu.be/ITqOOBnrb0g)\n",
        "\n",
        "<center><img src=\"https://files.gitbook.com/v0/b/gitbook-x-prod.appspot.com/o/spaces%2FlM3TzLEoziVc6PkglgAb%2Fuploads%2FsE05M6lVIDCwPhINLHzx%2FLaw_and_Error.png?alt=media&token=8727e16f-843e-475a-80db-fe97ce15cefc\" alt=\"Law_and_Error.png\" width=\"600\"></center>\n",
        "\n",
        "https://youtu.be/ITqOOBnrb0g\n",
        "\n",
        "Python error messages tell you three key things in order to solve the crime:\n",
        "- ***Where*** the error occured.\n",
        "- ***Who*** committed the crime (what type of error occured).\n",
        "- and an error message explaining ***why*** the error occured."
      ]
    },
    {
      "cell_type": "markdown",
      "metadata": {
        "id": "s467hQxiJ3yC"
      },
      "source": [
        "## Error types\n",
        "\n",
        "There are many types of errors, but some of the more common ones you may see include:\n",
        "- Index Error"
      ]
    },
    {
      "cell_type": "code",
      "execution_count": null,
      "metadata": {
        "id": "yj2SEf0YJ3yC"
      },
      "outputs": [],
      "source": [
        "x = [\"a\", \"b\"]\n",
        "x[5]"
      ]
    },
    {
      "cell_type": "markdown",
      "metadata": {
        "id": "2js9Cz6rJ3yD"
      },
      "source": [
        "- Name Error"
      ]
    },
    {
      "cell_type": "code",
      "execution_count": null,
      "metadata": {
        "id": "GaVIHdV-J3yD"
      },
      "outputs": [],
      "source": [
        "typeeeeee(4)"
      ]
    },
    {
      "cell_type": "markdown",
      "metadata": {
        "id": "7Aso-qSWJ3yD"
      },
      "source": [
        "- Syntax Error"
      ]
    },
    {
      "cell_type": "code",
      "execution_count": null,
      "metadata": {
        "id": "CKMUpmKrJ3yD"
      },
      "outputs": [],
      "source": [
        "type(4"
      ]
    },
    {
      "cell_type": "markdown",
      "metadata": {
        "id": "UD4wPgE8J3yD"
      },
      "source": [
        "- Type Error"
      ]
    },
    {
      "cell_type": "code",
      "execution_count": null,
      "metadata": {
        "id": "d-rWIagBJ3yD"
      },
      "outputs": [],
      "source": [
        "\"hello\" * \"world\""
      ]
    },
    {
      "cell_type": "markdown",
      "metadata": {
        "id": "OwpGy0m3J3yD"
      },
      "source": [
        "- Value Error"
      ]
    },
    {
      "cell_type": "code",
      "execution_count": null,
      "metadata": {
        "id": "kxQICOaZJ3yD"
      },
      "outputs": [],
      "source": [
        "int(\"hello\")"
      ]
    },
    {
      "cell_type": "markdown",
      "metadata": {
        "id": "nTqPcXYIJ3yD"
      },
      "source": [
        "<center><img src=\"https://files.gitbook.com/v0/b/gitbook-x-prod.appspot.com/o/spaces%2FlM3TzLEoziVc6PkglgAb%2Fuploads%2F9hIRt7G7lrMeUpz2mLHs%2Fcrazyboard.png?alt=media&token=023ce095-7aeb-4b18-95ef-abba085d79d0\" alt=\"silly_board.png\" width=\"600\"></center>\n",
        "\n",
        "\n",
        "<a href=\"https://www.freepik.com/free-photos-vectors/background\">Background vector created by brgfx - www.freepik.com</a>"
      ]
    },
    {
      "cell_type": "markdown",
      "metadata": {
        "id": "6_oR6hYcJ3yD"
      },
      "source": [
        "Okay let's try to fix the error we encountered earlier. First, let's take another look:"
      ]
    },
    {
      "cell_type": "code",
      "execution_count": null,
      "metadata": {
        "id": "Ki-K-lUMJ3yD"
      },
      "outputs": [],
      "source": [
        "len('5000')"
      ]
    },
    {
      "cell_type": "markdown",
      "metadata": {
        "id": "KK4-ZYm2J3yD"
      },
      "source": [
        "...hmmm, if only there were a function for changing data types..."
      ]
    },
    {
      "cell_type": "markdown",
      "metadata": {
        "id": "EfcG048EJ3yE"
      },
      "source": [
        "# Data Type Coercion\n",
        "\n",
        "### Make the data the type you want it to be - you are the boss!\n",
        "\n",
        "- You can also convert different data types into another using *type coercion*.\n",
        "```python\n",
        "int(), float(), str()\n",
        "```\n",
        "\n",
        "- e.g., what if we calculate the maximum capacity of an elevator at 3.14159265359?\n"
      ]
    },
    {
      "cell_type": "code",
      "execution_count": null,
      "metadata": {
        "id": "QjBHp_ZpJ3yE"
      },
      "outputs": [],
      "source": [
        "# But be warned: int always rounds down!\n",
        "int(3.14159265359), int(3.6), round(3.2), round(3.6)"
      ]
    },
    {
      "cell_type": "code",
      "source": [
        "type(round(3.6))"
      ],
      "metadata": {
        "id": "5PlPSR9sYxy9"
      },
      "execution_count": null,
      "outputs": []
    },
    {
      "cell_type": "code",
      "execution_count": null,
      "metadata": {
        "id": "n5PUewIWJ3yE"
      },
      "outputs": [],
      "source": [
        "# We can turn the integer 3 back into a float\n",
        "float(3)"
      ]
    },
    {
      "cell_type": "markdown",
      "metadata": {
        "id": "chgOrBjGJ3yE"
      },
      "source": [
        "Type conversion will only work where it makes sense to do so. Try to turn a string into a number:"
      ]
    },
    {
      "cell_type": "code",
      "execution_count": null,
      "metadata": {
        "id": "iCIkpmFvJ3yE"
      },
      "outputs": [],
      "source": [
        "int(\"3e5\")"
      ]
    },
    {
      "cell_type": "code",
      "source": [
        "3e5"
      ],
      "metadata": {
        "id": "pZGtY_ayP1Vv"
      },
      "execution_count": null,
      "outputs": []
    },
    {
      "cell_type": "code",
      "source": [
        "int(\"3\")"
      ],
      "metadata": {
        "id": "LNuQM3j7P3r_"
      },
      "execution_count": null,
      "outputs": []
    },
    {
      "cell_type": "code",
      "source": [
        "float(\"3.5\")"
      ],
      "metadata": {
        "id": "y8rksZ0VP7LV"
      },
      "execution_count": null,
      "outputs": []
    },
    {
      "cell_type": "code",
      "execution_count": null,
      "metadata": {
        "id": "CHo71MFXJ3yE"
      },
      "outputs": [],
      "source": [
        "# But this one is perfectly fine\n",
        "int(str(1000000 + 7))"
      ]
    },
    {
      "cell_type": "code",
      "source": [
        "int(str(1000000+7))#skjdlkasjd"
      ],
      "metadata": {
        "id": "kHwgodUVRAWA"
      },
      "execution_count": null,
      "outputs": []
    },
    {
      "cell_type": "code",
      "source": [
        "int(str(1000000 + 7))"
      ],
      "metadata": {
        "id": "2dq5sacvZp33"
      },
      "execution_count": null,
      "outputs": []
    },
    {
      "cell_type": "markdown",
      "metadata": {
        "id": "FxnZwQgbJ3yE"
      },
      "source": [
        "This code illustrates the point that Python will default to a string object, since practically any data type that is represented by characters can be turned into a string right?"
      ]
    },
    {
      "cell_type": "markdown",
      "metadata": {
        "id": "zdmn3CXNJ3yE"
      },
      "source": [
        "### We can use Coercion to prepare data for certain functions <a class=\"tocSkip\">\n",
        "- Try to take the `len()` of a number, for example"
      ]
    },
    {
      "cell_type": "code",
      "execution_count": null,
      "metadata": {
        "id": "Z4bkytLpJ3yE"
      },
      "outputs": [],
      "source": [
        "len(str(3000000))"
      ]
    },
    {
      "cell_type": "code",
      "execution_count": null,
      "metadata": {
        "id": "qOTrmT3ZJ3yE"
      },
      "outputs": [],
      "source": [
        "#turn strings into ints to do maths\n",
        "int('35') + int('72')"
      ]
    },
    {
      "cell_type": "markdown",
      "metadata": {
        "id": "cpm14-GfJ3yF"
      },
      "source": [
        "## Data Coercion Challenges"
      ]
    },
    {
      "cell_type": "markdown",
      "metadata": {
        "id": "v_f3Sgn2J3yF"
      },
      "source": [
        "### Challenge 1\n",
        "\n",
        "Which of the following will print 2.0? If they don't, what do they print instead? Try to make a prediction before testing this for yourself.\n",
        "\n",
        "1. 1.0 + float(\"1\")\n",
        "2. float(\"1\") + float(\"1.1\")\n",
        "3. 1.0 + int(\"3.1\")\n",
        "4. 1.0 + int(float(\"3.1\")) % 2\n",
        "5. int(1.0) + int(float(\"1.1\"))\n",
        "6. 2.0 * \"1\""
      ]
    },
    {
      "cell_type": "code",
      "source": [
        "1.0 + int(float(\"3.1\")) % 2"
      ],
      "metadata": {
        "id": "Bv3gBkQobYdj"
      },
      "execution_count": null,
      "outputs": []
    },
    {
      "cell_type": "markdown",
      "metadata": {
        "id": "Hk5R4uCLJ3yF"
      },
      "source": [
        "### Challenge 2\n",
        "\n",
        "What will these do? What will be the final data type in each case?\n",
        "\n",
        "1. `str(4.0)`\n",
        "2. `int(str(4.0))`\n",
        "3. `float(str(3.5))`\n",
        "4. `int(float(str(3.2)))`"
      ]
    },
    {
      "cell_type": "code",
      "execution_count": null,
      "metadata": {
        "id": "X0tWK86oJ3yF"
      },
      "outputs": [],
      "source": [
        "str(4.0)"
      ]
    },
    {
      "cell_type": "code",
      "source": [
        "int(str(4.0))"
      ],
      "metadata": {
        "id": "DaC99GKJ6uUS"
      },
      "execution_count": null,
      "outputs": []
    },
    {
      "cell_type": "code",
      "source": [
        "float(str(3.5))"
      ],
      "metadata": {
        "id": "YqP7AeCB6i9v"
      },
      "execution_count": null,
      "outputs": []
    },
    {
      "cell_type": "code",
      "source": [
        "int(float(str(3.2)))"
      ],
      "metadata": {
        "id": "L_9P4v7n64Iz"
      },
      "execution_count": null,
      "outputs": []
    },
    {
      "cell_type": "code",
      "source": [
        "int(float(str(3.2)))"
      ],
      "metadata": {
        "id": "4wBdKkfvBWzC"
      },
      "execution_count": null,
      "outputs": []
    },
    {
      "cell_type": "markdown",
      "metadata": {
        "id": "aSk4gEkVJ3yF"
      },
      "source": [
        "# Functions & Methods\n",
        "\n",
        " `upper()` - Makes every letter in the string upper case (**Surprise!**)"
      ]
    },
    {
      "cell_type": "code",
      "execution_count": null,
      "metadata": {
        "scrolled": true,
        "id": "hE1Wv-NWJ3yF"
      },
      "outputs": [],
      "source": [
        "# Try function(str)\n",
        "upper('This')"
      ]
    },
    {
      "cell_type": "code",
      "source": [
        "\"THis\".lower()"
      ],
      "metadata": {
        "id": "hZrl19bRc1dW"
      },
      "execution_count": null,
      "outputs": []
    },
    {
      "cell_type": "markdown",
      "source": [],
      "metadata": {
        "id": "lg3fgomwU_49"
      }
    },
    {
      "cell_type": "markdown",
      "metadata": {
        "id": "zUgRG1l0J3yF"
      },
      "source": [
        "### What happened here? We stumbled upon methods <a class=\"tocSkip\">\n",
        "\n",
        "Let's loook at the documentation:\n",
        "\n",
        "<center><img src=\"https://files.gitbook.com/v0/b/gitbook-x-prod.appspot.com/o/spaces%2FlM3TzLEoziVc6PkglgAb%2Fuploads%2FNfbqOlnvOUaPFkFlW8r4%2Fupper.png?alt=media&token=29b2adf5-7c54-467a-973d-bc37b48a2dfe\" alt=\"upper.png\" style=\"width:auto;height:70vh\"></center>"
      ]
    },
    {
      "cell_type": "markdown",
      "metadata": {
        "id": "mKSID5vBJ3yF"
      },
      "source": [
        "### *Methods* are similar to functions, but specific to a certain type of object <a class=\"tocSkip\">\n",
        "```python\n",
        "object.method(arguments)\n",
        "```\n",
        "**Kitchen example:**\n",
        "\n",
        "```python\n",
        "pizza.cut(arguments)\n",
        "```\n"
      ]
    },
    {
      "cell_type": "code",
      "execution_count": null,
      "metadata": {
        "id": "3f6AElkiJ3yG"
      },
      "outputs": [],
      "source": [
        "# Now try str.method() instead\n",
        "\n",
        "\"I don't know what we're yelling about.\".upper()"
      ]
    },
    {
      "cell_type": "markdown",
      "metadata": {
        "id": "HuSCfXMtJ3yG"
      },
      "source": [
        "<center><img src=\"https://media0.giphy.com/media/FNJjBAaz0mOAg/giphy.gif\" alt=\"yelling.gif\" style=\"width:auto;height:70vh\"></center>"
      ]
    },
    {
      "cell_type": "markdown",
      "metadata": {
        "id": "3FoihHlvJ3yG"
      },
      "source": [
        "### There are lots of string methods:  <a class=\"tocSkip\">\n",
        "\n",
        " (https://docs.python.org/3/library/stdtypes.html#string-methods)\n",
        "\n",
        "## Methods Challenge  <a class=\"tocSkip\">\n",
        "Go to the above link (type it or paste it from the Etherpad), look up the following methods and figure out how they work:\n",
        "- ```str.upper()```\n",
        "- ```str.title()```\n",
        "- ```str.capitalize()```\n",
        "\n",
        "Can you create an example for each method?"
      ]
    },
    {
      "cell_type": "code",
      "execution_count": null,
      "metadata": {
        "id": "KUwZscjRJ3yG"
      },
      "outputs": [],
      "source": [
        "\"i don't know what we're yelling about.\".title()"
      ]
    },
    {
      "cell_type": "markdown",
      "metadata": {
        "id": "sYHeXG0BJ3yG"
      },
      "source": [
        "# The Print() function\n",
        "\n",
        "- Print statements are a handy function that takes the data you put into it, and then outputs it (as a string) to the console.\n",
        "- This can be extremely useful when you're trying to format some text output in a particular way - such as only using 2 decimal points of a number.\n",
        "- It is a great way to \"look under the hood\" when you are coding.\n",
        "- It is also useful when you are looking for issues in the code, you can print out your data where you think things are going wrong."
      ]
    },
    {
      "cell_type": "code",
      "execution_count": null,
      "metadata": {
        "id": "SoDdiV_QJ3yG"
      },
      "outputs": [],
      "source": [
        "# You can use commas in print to add different elements together without adding your own spaces\n",
        "# Also, it auto-coerces data types to strings, and removes those awkward 'quote' marks from output\n",
        "\n",
        "# This will print something in the middle of the cell:\n",
        "print(\"The\", \"Rock\",\"is\", \"an\", \"American actor,\", \"businessman,\", \"and\", \"former professional wrestler\", \"!\" * 5)\n",
        "\n",
        " # usually Jupyter notebooks only print out the last thing in the cell."
      ]
    },
    {
      "cell_type": "markdown",
      "metadata": {
        "id": "OTMRGblCJ3yG"
      },
      "source": [
        "### This is cool, but what if we wanted to print out a big number with commas every three digits <a class=\"TocSkip\">\n",
        "Desired output is 1,000,000.5"
      ]
    },
    {
      "cell_type": "code",
      "execution_count": null,
      "metadata": {
        "scrolled": true,
        "id": "viQ9R2X6J3yG"
      },
      "outputs": [],
      "source": [
        "print(1,000,000.5)"
      ]
    },
    {
      "cell_type": "markdown",
      "metadata": {
        "id": "wkGOdIumJ3yG"
      },
      "source": [
        "### Silent errors\n",
        " - This is an example of a ***semantic***, or silent, error.\n",
        " - Python has still _worked_ - it ran your code, and gave you a valid result,\n",
        " - but it hasn't done what you intended it to do."
      ]
    },
    {
      "cell_type": "markdown",
      "metadata": {
        "id": "8eGlKKJdJ3yH"
      },
      "source": [
        "# Debugging\n",
        "\n",
        "## Preventing errors\n",
        "\n",
        "It's best to develop your code gradually, and use comments to log each step in the code. Another great idea is to test your code as you write it.\n",
        "\n",
        "Before you start to develop your code, you may have expectations of what sort of input instances will be used, as well as the expected output for these inputs. You can use this to your advantage when writing code to avoid logical errors."
      ]
    },
    {
      "cell_type": "markdown",
      "metadata": {
        "id": "2rJ_sb1lJ3yH"
      },
      "source": [
        "**Execution-based verification** is the act of generating and executing your code using test instances as input to check the output for correctness.\n",
        "\n",
        "Test instances should be designed independently to the software implementation. It's generally impossible to test all possible inputs; however programs should be tested over a spectrum of instances, and special consideration should be given to identifying and testing boundary case inputs."
      ]
    },
    {
      "cell_type": "markdown",
      "metadata": {
        "id": "korwoqPfJ3yH"
      },
      "source": [
        "## Non-execution based debugging methods <a class=\"TocSkip\">\n",
        "\n",
        "- Read the error log.\n",
        "- Use a debugging tool (I recommend [Python Tutor](http://www.pythontutor.com/visualize.html)) to run through your code one line at a time.\n",
        "- Test smaller chunks (use commenting to focus on only part of the code at a time).\n",
        "- `print()` values as you go.\n",
        "- Search online.\n",
        "- Join and post on online communities (Stack Exchange/Overflow, Slack)\n",
        "\n",
        "### Join our Slack for Digital skills support: http://go.unimelb.edu.au/6mhi <a class=\"TocSkip\">"
      ]
    },
    {
      "cell_type": "markdown",
      "metadata": {
        "id": "O7sH1GuEJ3yH"
      },
      "source": [
        "# Variables\n",
        "\n",
        "So, now we know how to input data, what if we want to use it again and again?\n",
        "\n",
        "...if only we could *assign* our string a nickname!\n",
        "\n",
        "She's bloody Aussie, yeah-nah?"
      ]
    },
    {
      "cell_type": "markdown",
      "metadata": {
        "id": "nn7gdJXdJ3yH"
      },
      "source": [
        "<center><img src=\"https://files.gitbook.com/v0/b/gitbook-x-prod.appspot.com/o/spaces%2FlM3TzLEoziVc6PkglgAb%2Fuploads%2FmtfQiQdaOvZM4NyObWCz%2FAussie_slang.png?alt=media&token=3d0bf023-3e6b-4d4d-8d43-aabac115209c\" alt=\"Aussie Slang\" width=\"600\"></center>"
      ]
    },
    {
      "cell_type": "markdown",
      "metadata": {
        "id": "29JyGKxpJ3yH"
      },
      "source": [
        "## Variables, Nicknames for our data <a class=\"tocSkip\">\n",
        "\n",
        "- Do you want to type out the *same* numbers, and the *same* string every time you want to use it?\n",
        "- What about if you wanted to do some calculations starting from one number?\n",
        "- How are you going to save the answer?\n",
        "\n",
        "Simple! What we can do is assign these values to a variable.\n",
        "\n",
        "We can do this using the `=` sign. What this does is use Python to tell the computer to carve out a piece of memory somewhere, give it the name you told it to, and assign it a user-specified (i.e. you get to choose it) variable name.\n",
        "\n",
        "```python\n",
        "dinner = \"pizza\"\n",
        "```"
      ]
    },
    {
      "cell_type": "markdown",
      "metadata": {
        "id": "1pFh18GmJ3yH"
      },
      "source": [
        "<center><img src=\"https://i.pinimg.com/originals/ec/9f/6e/ec9f6ee9187a94e252a933502570e097.gif\" alt=\"the_Rock.gif\" style=\"width:auto;height:70vh\"></center>"
      ]
    },
    {
      "cell_type": "code",
      "execution_count": null,
      "metadata": {
        "id": "iAE9uBcdJ3yH"
      },
      "outputs": [],
      "source": [
        "# Let's start with nicknames\n",
        "Rock = 'Dwayne Johnson'\n",
        "\n",
        "# Tells the computer to find that piece of memory called \"Rock\", and then print out the value of it\n",
        "print(Rock)"
      ]
    },
    {
      "cell_type": "code",
      "source": [
        "print(Rock)"
      ],
      "metadata": {
        "id": "PenefKieIhas"
      },
      "execution_count": null,
      "outputs": []
    },
    {
      "cell_type": "code",
      "execution_count": null,
      "metadata": {
        "id": "j-FRqZy7J3yH"
      },
      "outputs": [],
      "source": [
        "# Note: now we can use our data again in a new cell!\n",
        "type(Rock)"
      ]
    },
    {
      "cell_type": "markdown",
      "metadata": {
        "id": "UTGX8cXEJ3yH"
      },
      "source": [
        "### We can also assign the results of an operation into a new variable <a class=\"tocSkip\">"
      ]
    },
    {
      "cell_type": "code",
      "execution_count": null,
      "metadata": {
        "scrolled": true,
        "id": "QhcUfc59J3yH"
      },
      "outputs": [],
      "source": [
        "number = 10\n",
        "\n",
        "string = 'hi'\n",
        "\n",
        "example_operation = number * string\n",
        "\n",
        "#What will this print?\n",
        "print(example_operation)"
      ]
    },
    {
      "cell_type": "markdown",
      "metadata": {
        "id": "3IK57R8bJ3yH"
      },
      "source": [
        "### And even perform operations and functions on it <a class=\"tocSkip\">"
      ]
    },
    {
      "cell_type": "code",
      "execution_count": null,
      "metadata": {
        "id": "RGKZkSq1J3yH"
      },
      "outputs": [],
      "source": [
        "number = 3.5\n",
        "\n",
        "print(type(number))"
      ]
    },
    {
      "cell_type": "code",
      "execution_count": null,
      "metadata": {
        "id": "5Y5S5M8XJ3yH"
      },
      "outputs": [],
      "source": [
        "# I don't expect you to do this one in your head\n",
        "print(number ** 2 + 5)"
      ]
    },
    {
      "cell_type": "code",
      "execution_count": null,
      "metadata": {
        "id": "VUFyFV5vJ3yI"
      },
      "outputs": [],
      "source": [
        "str((number ** 2 + 5) / 2)"
      ]
    },
    {
      "cell_type": "markdown",
      "metadata": {
        "id": "o1Mc0JBaJ3yI"
      },
      "source": [
        "### The dark art of variable Names\n",
        "\n",
        "Python has basically only three rules about naming variables:\n",
        "- Names you define must start with a letter (a-z,A-Z) or underscore (_) and can be followed by any number of letters, digits (0-9), or underscores\n",
        "- Names you define cannot be the same as any of Python's reserved words (see below table)\n",
        "- Names are case-sensitive: `YOU, you, You`, and `yOu` are all different names in Python\n",
        "- Note that `-, +, *`, and `/` are used by Python for defining operations on data and cannot be used in names\n",
        "\n",
        "Also, try to make your variable names mean something. It can be very confusing for someone else reading your code (or even yourself, after a long break) if you write something filled with a number of different `temp, myvariable`, or `test` variables."
      ]
    },
    {
      "cell_type": "markdown",
      "metadata": {
        "id": "RNUg2BbIJ3yI"
      },
      "source": [
        "| |Reserved | Words | |\n",
        "| --- | --- | --- | --- |\n",
        "|False|True|None|and|\n",
        "|as|assert|break|class|\n",
        "|continue|class|del|def|\n",
        "|if|else|elif|import|\n",
        "|for|from|return|global|\n",
        "|try|except|finally|raise|\n",
        "|while|not|in|is|\n",
        "|or|with|yield|lambda|\n",
        "|pass|nonlocal| | |"
      ]
    },
    {
      "cell_type": "markdown",
      "metadata": {
        "id": "gHf1IwA3J3yI"
      },
      "source": [
        "## Variable Names Challenge\n",
        "\n",
        "In this list of variable names, which ones are legal?\n",
        "\n",
        "1. 76trombones = \"big parade\"\n",
        "2. more$ = 1000000\n",
        "3. class = \"Computer Science 101\"\n",
        "4. Price_of_tea_in_china\n",
        "5. my name = \"Scooby Doo\"\n",
        "6. A_good_grade_is_A+\n",
        "\n",
        "Which ones are technically legal, but generally frowned upon, and how could we make these better?"
      ]
    },
    {
      "cell_type": "code",
      "execution_count": null,
      "metadata": {
        "id": "X1KtM6xfJ3yI"
      },
      "outputs": [],
      "source": []
    },
    {
      "cell_type": "code",
      "execution_count": null,
      "metadata": {
        "id": "YRZxdZe3J3yI"
      },
      "outputs": [],
      "source": []
    },
    {
      "cell_type": "markdown",
      "metadata": {
        "id": "dSVFeSlaJ3yI"
      },
      "source": [
        "### Family Challenge\n",
        "\n",
        "Create three variables:\n",
        "- One called `family_name` that points to the family's name (make that a string maybe?).\n",
        "- One called `family_count` that stores the number of members in your family.\n",
        "- One called `family_age` that stores the average age of your family.\n",
        "\n",
        "Then print the following:\n",
        "\n",
        "```python\n",
        "\"Our family name is ___. We have ___ members and we are, on average, ___ years old.\"\n",
        "```"
      ]
    },
    {
      "cell_type": "markdown",
      "source": [
        "# Other Data Structures\n",
        "\n",
        "* **Tuples**: Allow storing multiple items in a single variable. They are ordered and unchangeable - They cannot be changed once created. Allow duplicates\n",
        "\n",
        "* **Sets**: Store multiple items in a single variable. They are unordered *BUT* they can be edited. Their elements can appear in a different order every time they are called. Do not allow duplicates; replicates are ignored\n",
        "\n",
        "* **Lists**: Hold a sequence of elements. These can be numbers, strings, booleans or other lists.\n",
        "\n",
        "* **Dictionaries**: are associative arrays consisting of a collection of key-values like word definition in a real dictionary.\n",
        "\n",
        "* **Function libraries (packages)**: May introduce other data structures such as Dataframes or Numerical Arrays.\n",
        "\n"
      ],
      "metadata": {
        "id": "lGZ3LDRPh0fQ"
      }
    },
    {
      "cell_type": "markdown",
      "source": [
        "## Tuples"
      ],
      "metadata": {
        "id": "4HcD5RsKx_aL"
      }
    },
    {
      "cell_type": "code",
      "source": [
        "# A fruity tuple\n",
        "fruit_tuple = (\"banana\", \"apple\", \"mango\", \"strawberry\", \"pear\", \"plum\")"
      ],
      "metadata": {
        "id": "6KL1rfc6wZjQ"
      },
      "execution_count": null,
      "outputs": []
    },
    {
      "cell_type": "markdown",
      "source": [
        "## Sets"
      ],
      "metadata": {
        "id": "niYOvqr7yCxn"
      }
    },
    {
      "cell_type": "code",
      "source": [
        "# Set of fruits\n",
        "fruit_set = {\"banana\", \"apple\", \"mango\", \"strawberry\", \"pear\", \"plum\"}"
      ],
      "metadata": {
        "id": "keCZG1v2xt1V"
      },
      "execution_count": null,
      "outputs": []
    },
    {
      "cell_type": "code",
      "source": [
        "print({\"banana\", \"apple\", \"mango\", \"strawberry\", \"pear\", \"plum\", \"banana\"})"
      ],
      "metadata": {
        "id": "Fxd2J5wtx0fk"
      },
      "execution_count": null,
      "outputs": []
    },
    {
      "cell_type": "markdown",
      "source": [
        "## Lists"
      ],
      "metadata": {
        "id": "QxfrecLHyIBM"
      }
    },
    {
      "cell_type": "code",
      "source": [
        "#A simple list containing some fruits\n",
        "print([\"banana\", \"apple\", \"mango\", \"strawberry\", \"pear\", \"plum\"])"
      ],
      "metadata": {
        "id": "uvMXFQwNjBId"
      },
      "execution_count": null,
      "outputs": []
    },
    {
      "cell_type": "code",
      "source": [
        "fruit_list = [\"banana\", \"apple\", \"mango\", \"strawberry\", \"pear\", \"plum\"]"
      ],
      "metadata": {
        "id": "rTGEKTlIwfzT"
      },
      "execution_count": null,
      "outputs": []
    },
    {
      "cell_type": "markdown",
      "source": [
        "## Dictionaries"
      ],
      "metadata": {
        "id": "xuz7yavVyLoP"
      }
    },
    {
      "cell_type": "code",
      "source": [
        "fruit_bowl = {\"banana\": \"A tropical fruit\",\n",
        " \"apple\": \"A pome\",\n",
        " \"mango\": \"Better than banana!\",\n",
        " \"strawberry\":['cream','frozen fruit','chocolate']}"
      ],
      "metadata": {
        "id": "YL8fPabSjRg4"
      },
      "execution_count": null,
      "outputs": []
    },
    {
      "cell_type": "code",
      "source": [
        "fruit_bowl['banana']"
      ],
      "metadata": {
        "id": "2NVu2jUgoBa-"
      },
      "execution_count": null,
      "outputs": []
    },
    {
      "cell_type": "code",
      "source": [
        "fruit_bowl['plum']='Another fruit to the bowl'"
      ],
      "metadata": {
        "id": "gJ6tt1apxb8B"
      },
      "execution_count": null,
      "outputs": []
    },
    {
      "cell_type": "markdown",
      "source": [
        "Go ahead and complete de *fruits* dictionary with some extra definitions. Be careful with the syntax"
      ],
      "metadata": {
        "id": "zcr2EdC-x2qy"
      }
    },
    {
      "cell_type": "markdown",
      "metadata": {
        "id": "EE1J8VAnJ3yI"
      },
      "source": [
        "### Optional, Extension Challenge\n",
        "\n",
        "You are given two positive integers, `a` and `b`, which each correspond to the sides of a right-angle triangle.\n",
        "Print the integer value corresponding to the square of the hypotenuse, `c^2`, of that right triangle.\n",
        "That is, given sides `a` and `b`, print `c^2`\n",
        "\n",
        "<center><img src=\"https://thumbs.gfycat.com/ImaginativeSkinnyChick-max-1mb.gif\" alt=\"hypotenuse.gif\" style=\"width:auto;height:70vh\"></center>\n",
        "\n",
        "Hint: if `a = 3` and `b = 5`, then the answer is `34`. Do the same for `a = 2` and `b = 6`."
      ]
    },
    {
      "cell_type": "markdown",
      "metadata": {
        "id": "-SphO1VSJ3yI"
      },
      "source": [
        "# Quiz\n",
        "\n",
        "### Time to test your memory! <a class=\"tocSkip\">"
      ]
    },
    {
      "cell_type": "markdown",
      "metadata": {
        "id": "_Rf9Ex_tJ3yI"
      },
      "source": [
        "### To participate in the quiz, join here: https://joinmyquiz.com and enter the game code provided by your trainer. <a class=\"tocSkip\">"
      ]
    },
    {
      "cell_type": "markdown",
      "metadata": {
        "id": "oe5XU6V8J3yI"
      },
      "source": [
        "</br>"
      ]
    },
    {
      "cell_type": "markdown",
      "metadata": {
        "id": "pMu8Mg_sJ3yI"
      },
      "source": [
        "# Thank you for joining the workshop! <a class=\"tocSkip\">\n",
        "\n",
        "### I hope you enjoyed it and learnt something new.  <a class=\"tocSkip\">\n",
        "\n",
        "<center><img src=\"https://media1.giphy.com/media/229ORmLCNmURn1tqnJ/200.gif\" alt=\"thank_you.gif\" style=\"width:auto;height:70vh\"></center>"
      ]
    },
    {
      "cell_type": "markdown",
      "metadata": {
        "id": "zDU6fgIkJ3yI"
      },
      "source": [
        "## Please take our feedback survey: http://go.unimelb.edu.au/xz2i  <a class=\"tocSkip\">\n",
        "\n",
        "\n",
        "![digital_skills_feedback_survey.png](data:image/png;base64,iVBORw0KGgoAAAANSUhEUgAAAOMAAADkCAYAAABqi5P0AAAKpGlDQ1BJQ0MgUHJvZmlsZQAASImVlgdUU0kXx+e99JAQIIB0Qm+CdAJICT106SAqIQkklBACQQW7LK7giiIiTV3RVQEFV6XIWrFgQQQL2DfIIqCuiwVQsewDDmF3v3a+e868+Z377vzn3jkz51wAyCSWUJgGywGQLsgWhfl60GJi42i4IYAGWEAAeEBjsbOEjNDQQIDY7Px3G+8F0NR8x3xK61///1eT53Cz2ABAoQgncrLY6QifRMZztlCUDQCqGvHrLc8WTvF5hBVFSIII353i5BkenuLEGf48HRMR5gkAGqkKT2KxRMkAkDQQPy2HnYzokBYibCng8AUIT+Xrmp6ewUH4CMLGSIwQ4Sl9euJfdJL/ppko1WSxkqU8U8u04b34WcI01sr/8zj+t6WniWf3MEQGiSfyC0NmWeTM7qdmBEhZkBgcMst8znT8NPPEfpGzzM7yjJtlDssrQLo2LThwlpP4PkypTjYzYpa5Wd7hsyzKCJPulSTyZMwySzS3rzg1UurncZlS/VxeRPQs5/Cjgmc5KzU8YC7GU+oXicOk+XMFvh5z+/pIa0/P+ku9fKZ0bTYvwk9aO2suf66AMaeZFSPNjcP18p6LiZTGC7M9pHsJ00Kl8dw0X6k/KydcujYbuZBza0OlZ5jC8g+dZeAHhIAGvIE1sAU2AGRzV2RPFeGZIVwp4ifzsmkM5HVxaUwB22I+zdrSGomZeqszV+Fd2PQbhJTPzvkyDiBXeBx5E9vnfImlALQUAKDycM6nvwcASj4Aze1ssShnxoee+mAAEVCAIlAFWkAPGANzJDd74AzckSz9QQiIALFgKWADHkgHIrAcrALrQQEoAtvATlAJ9oL94DA4Co6DFnAaXABXwA3QDe6BR0ACBsFLMArGwSQEQTiIDFEhVUgbMoDMIGuIDrlC3lAgFAbFQglQMiSAxNAqaCNUBJVAldA+qBb6GToFXYCuQT3QA6gfGoHeQp9gFEyCFWFN2BBeANNhBhwAR8BL4GQ4E86F8+GtcDlcAx+Bm+EL8A34HiyBX8JjKICSQSmjdFDmKDrKExWCikMloUSoNahCVBmqBtWAakN1oO6gJKhXqI9oLJqKpqHN0c5oP3Qkmo3ORK9Bb0FXog+jm9GX0HfQ/ehR9FcMGaOBMcM4YZiYGEwyZjmmAFOGOYhpwlzG3MMMYsaxWKwy1gjrgPXDxmJTsHnYLdjd2EbseWwPdgA7hsPhVHFmOBdcCI6Fy8YV4CpwR3DncLdxg7gPeBm8Nt4a74OPwwvwG/Bl+Dr8Wfxt/BB+kiBHMCA4EUIIHMJKQjHhAKGNcIswSJgkyhONiC7ECGIKcT2xnNhAvEx8THwnIyOjK+Mos0iGL7NOplzmmMxVmX6ZjyQFkinJkxRPEpO2kg6RzpMekN6RyWRDsjs5jpxN3kquJV8kPyV/kKXKWsgyZTmya2WrZJtlb8u+phAoBhQGZSkll1JGOUG5RXklR5AzlPOUY8mtkauSOyXXJzcmT5W3kg+RT5ffIl8nf01+WAGnYKjgrcBRyFfYr3BRYYCKoupRPals6kbqAepl6qAiVtFIkamYolikeFSxS3FUSUHJVilKaYVSldIZJYkyStlQmamcplysfFy5V/nTPM15jHnceZvnNcy7PW9CRV3FXYWrUqjSqHJP5ZMqTdVbNVV1u2qL6hM1tJqp2iK15Wp71C6rvVJXVHdWZ6sXqh9Xf6gBa5hqhGnkaezX6NQY09TS9NUUalZoXtR8paWs5a6VolWqdVZrRJuq7arN1y7VPqf9gqZEY9DSaOW0S7RRHQ0dPx2xzj6dLp1JXSPdSN0Nuo26T/SIenS9JL1SvXa9UX1t/SD9Vfr1+g8NCAZ0A57BLoMOgwlDI8Now02GLYbDRipGTKNco3qjx8ZkYzfjTOMa47smWBO6SarJbpNuU9jUzpRnWmV6yww2szfjm+0265mPme84XzC/Zn6fOcmcYZ5jXm/eb6FsEWixwaLF4vUC/QVxC7Yv6Fjw1dLOMs3ygOUjKwUrf6sNVm1Wb61NrdnWVdZ3bcg2PjZrbVpt3tia2XJt99jet6PaBdltsmu3+2LvYC+yb7AfcdB3SHCoduijK9JD6VvoVx0xjh6Oax1PO350snfKdjru9IezuXOqc53z8EKjhdyFBxYOuOi6sFz2uUhcaa4Jrj+6Stx03FhuNW7P3PXcOe4H3YcYJowUxhHGaw9LD5FHk8eEp5Pnas/zXigvX69Cry5vBe9I70rvpz66Psk+9T6jvna+eb7n/TB+AX7b/fqYmkw2s5Y56u/gv9r/UgApIDygMuBZoGmgKLAtCA7yD9oR9DjYIFgQ3BICQpghO0KehBqFZob+sgi7KHRR1aLnYVZhq8I6wqnhy8LrwscjPCKKIx5FGkeKI9ujKFHxUbVRE9Fe0SXRkpgFMatjbsSqxfJjW+NwcVFxB+PGFnsv3rl4MN4uviC+d4nRkhVLri1VW5q29MwyyjLWshMJmITohLqEz6wQVg1rLJGZWJ04yvZk72K/5LhzSjkjXBduCXcoySWpJGk42SV5R/IIz41XxnvF9+RX8t+k+KXsTZlIDUk9lPotLTqtMR2fnpB+SqAgSBVcytDKWJHRIzQTFgglmU6ZOzNHRQGig1lQ1pKs1mxFpCnqFBuLvxP357jmVOV8WB61/MQK+RWCFZ0rTVduXjmU65P7Ux46j53Xvkpn1fpV/asZq/etgdYkrmlfq7c2f+3gOt91h9cT16euv7nBckPJhvcboze25Wvmr8sf+M73u/oC2QJRQd8m5017v0d/z/++a7PN5orNXws5hdeLLIvKij5vYW+5/oPVD+U/fNuatLWr2L54zzbsNsG23u1u2w+XyJfklgzsCNrRXEorLSx9v3PZzmtltmV7dxF3iXdJygPLWyv0K7ZVfK7kVd6r8qhqrNao3lw9sZuz+/Ye9z0NezX3Fu399CP/x/v7fPc11xjWlO3H7s/Z//xA1IGOn+g/1R5UO1h08MshwSHJ4bDDl2odamvrNOqK6+F6cf3Ikfgj3Ue9jrY2mDfsa1RuLDoGjomPvfg54efe4wHH20/QTzScNDhZ3URtKmyGmlc2j7bwWiStsa09p/xPtbc5tzX9YvHLodM6p6vOKJ0pPks8m3/227ncc2PnhedfXUi+MNC+rP3RxZiLdy8tutR1OeDy1Ss+Vy52MDrOXXW5evqa07VT1+nXW27Y32jutOtsuml3s6nLvqv5lsOt1m7H7raehT1nb7vdvnDH686Vu8y7N+4F3+vpjey93xffJ7nPuT/8IO3Bm4c5DycfrXuMeVz4RO5J2VONpzW/mvzaKLGXnOn36u98Fv7s0QB74OVvWb99Hsx/Tn5eNqQ9VDtsPXx6xGek+8XiF4MvhS8nXxX8Lv979Wvj1yf/cP+jczRmdPCN6M23t1veqb479N72fftY6NjT8fTxyYnCD6ofDn+kf+z4FP1paHL5Z9zn8i8mX9q+Bnx9/C392zchS8SabgVQyICTkgB4ewgAciwA1G4AiItneulpg2b6/2kC/4ln+u1pswdgfx8AEXkABN4EoKISaWURfUo8AKEUxO8MYBsb6Zjte6d79CnTRfolWx4CHuDf2Ez//pe8/zmDKVVb8M/5T2HmAtG81KG8AAAAVmVYSWZNTQAqAAAACAABh2kABAAAAAEAAAAaAAAAAAADkoYABwAAABIAAABEoAIABAAAAAEAAADjoAMABAAAAAEAAADkAAAAAEFTQ0lJAAAAU2NyZWVuc2hvdJeYncQAAAHWaVRYdFhNTDpjb20uYWRvYmUueG1wAAAAAAA8eDp4bXBtZXRhIHhtbG5zOng9ImFkb2JlOm5zOm1ldGEvIiB4OnhtcHRrPSJYTVAgQ29yZSA2LjAuMCI+CiAgIDxyZGY6UkRGIHhtbG5zOnJkZj0iaHR0cDovL3d3dy53My5vcmcvMTk5OS8wMi8yMi1yZGYtc3ludGF4LW5zIyI+CiAgICAgIDxyZGY6RGVzY3JpcHRpb24gcmRmOmFib3V0PSIiCiAgICAgICAgICAgIHhtbG5zOmV4aWY9Imh0dHA6Ly9ucy5hZG9iZS5jb20vZXhpZi8xLjAvIj4KICAgICAgICAgPGV4aWY6UGl4ZWxZRGltZW5zaW9uPjIyODwvZXhpZjpQaXhlbFlEaW1lbnNpb24+CiAgICAgICAgIDxleGlmOlBpeGVsWERpbWVuc2lvbj4yMjc8L2V4aWY6UGl4ZWxYRGltZW5zaW9uPgogICAgICAgICA8ZXhpZjpVc2VyQ29tbWVudD5TY3JlZW5zaG90PC9leGlmOlVzZXJDb21tZW50PgogICAgICA8L3JkZjpEZXNjcmlwdGlvbj4KICAgPC9yZGY6UkRGPgo8L3g6eG1wbWV0YT4KiO6CpwAAKYpJREFUeAHtXQuwVlX13/Q0Sw0fGBKIpQJqaoxg6Vg8TCRACyl8ZVLqlCOaD7AUEfIVagaZCppZouI02aDYmGJ6dZocbiWOlqGlgRiQCmYm9qb1+/6c+z/f3r917rfPPd/r3LVm7tzvrL33Wnv/9tnn3u+311m7zxYRZ2IIGAJNR+AtTe+BdcAQMAQqCNhitBvBEGgRBGwxtshEWDcMAVuMdg8YAi2CgC3GFpkI64YhYIvR7gFDoEUQsMXYIhNh3TAEbDHaPWAItAgCthhbZCKsG4aALUa7BwyBFkHAFmOLTIR1wxCwxWj3gCHQIgi8LbYfP/vZz1xHR0dss6bVP/30013//v0D//fdd5977LHHAv2///1v97a3cVhmzJjhtttuu6CNprj33ntdZ2dnUNyvXz93xhlnBPrXX3/dXXXVVYEeiuOOO84NGzYsKFu6dKl7/PHHA/1//vMf99a3vjXQ//3vf3fveMc73FveEj6HTzzxRLf33nsHbX70ox+5J598MtD/97//pXZQcc6cObRs3rx57o033ghsaYo99tjDTZs2LShev369u/766wN9qypGjRrlxo4dm909vLURI7NmzcJbHm3zs3LlSjq8s846i47hfe97H9VjzH/605+oLU35pS99idraZ599aJMXX3yR1ofvu+66i7aRG5W22X333ak+a+7k4UF9HH/88dTWBz7wAaqHj3/+85/U1i677ELbyIOG6j/+8Y9TO5jXrLG0WhnWTXcSPh5lFCaGgCHQeARsMTYec/NoCFAEbDFSWExpCDQeAVuMjcfcPBoCFAFOG9Kq2cqddtrJDR8+PLtSnUrBgD788MNR1oVgcO9973uDNm9/+9upHhXBHsYImFchLIIm0D/44IOB/tVXX6X1UfGd73xnUB8KjJ2No0+fPlSPMWi2ND2YWeYD/jU95oMxtjvuuCOaBfKe97yHjl2zHxhIKUaPHq0y4qlqdfkIZnvjxo25bBe2GLEQH3jggVyd6Gmjv/71r26HHXaIMgN6/y9/+UvQZptttqF6VGQ3V2AgpbjyyisdfnxZsmSJ+8QnPuGrK9evvPKKw4OtVsE2DBsH8GB62MUWCm7+WgVbJMwWFhbTw+64ceOo+eXLl7vDDz+clhWlxHbP9ttvX5S5KDtHHHGEwxjziP2bmgc1a2MI1AEBW4x1ANVMGgJ5ELDFmAc1a2MI1AEBW4x1ANVMGgJ5ECiMwMly/o9//COruOYyEChgO4sQCU0qwkymDbCQ+PGF6ZI6//rXvxyYXl/AjrI+M53ftqfXRfrA2Nn4QBKxWNqe9j3dHtjGMuLp9unPGvOcrhP7ue6LEQsRDGURMnHiRLds2bIiTDkETDPBVoEmWYuItUEw+MKFC4OioUOHut/97neB/qWXXqJB7agoMbNuw4YNQZtTTz2V2kJw90UXXRTUz6PQHqa4uWNl6tSp7rXXXguaoa9f//rXA32RismTJzsE7xchuH+KXpB1X4xFDLweNt71rndRs9obG6hc1JMbf+GxIH2JeSMkabvttttSW+9///uTKj3+rT1M8/yXgr/wJhwB+87IcTGtIdBwBGwxNhxyc2gIcARsMXJcTGsINBwBW4wNh9wcGgIcgV5L4IDVkzfuA1RAuyNulUls0DLICqSN8AUEzkc+8hFfXaH8Bw8e7BjJAWKJkU6sLgyD6WS+wQiPGTOGxtmCkNEYUmYLDO/5558fjEMyIrjFixcH+kTRt2/f5GPX74ceeojGNiPmuZ3Sa3QNKMeHXrsYP/rRjzr81FOwP/fHP/4xcAGm8ze/+U2gz1JoWxvaHiAWFvMNHy+88AJ1tfPOOzsEqvuChxazteuuu7rTTjvNr17ZatG2KfBAY8HlYGzZdo/G5AZOS6Cwf1NLMIk2hHIgYIuxHPNooygBArYYSzCJNoRyIGCLsRzzaKMoAQK9lsCJnbvNmze7uXPn0mZaMl8QJYyxhRGmB5MJppWF3YGoYSkrWF3Yl5ymTvKd4mOV/O1vf3O///3vKWOLNuwNeZAoBx54YJUdXCAUj7Gp8MF8ow3YXNZnxHl++MMfRpUqYYmbqyqU6MIWY42TicXIUmigOdhRSUAcWNp3333d008/Hei1+kHFlEJjU7X0HR/72Mccfnx5/vnn3Qc/+EFfXbnG+CZMmEDLmHLRokVOEjWzoso2TZ7YVWqslyjt39ReMtE2zNZHwBZj68+R9bCXIGCLsZdMtA2z9RGwxdj6c2Q97CUI1J3AATuIN/SLkBEjRhRhpmIDxAoL8dJiU/F2OsLFmCBulJWBwGAv+TJWFHbByrKUFChDvCzzkZWZAO18QV9Zn1DvmWee8atXrsHyMjIG9Vmf0OinP/0pjX9F1gD2hrzmAzlkWRwv7Wg3yiLvH9zXRUvdFyMmsahUGUUO/sYbb3QLFiwITGqsZVAxpQD1z2I6p0yZ4m644YZUzeyPCLDWFgr6xXxkZSZg3gYNGuTWrl3LitzAgQMpK4xtGMYKYyuE9QnGjzrqKOpDi03FFgaLTZUj4VxHQeeBzp49m/apVZTFL+9WGZn1wxBoMwRsMbbZhFl3y4uALcbyzq2NrM0QsMXYZhNm3S0vAoUROGD1cBpUMwSnKsWKlgNVe1k31j7qgx1lfUNsJuI6ixCMI8YHxofY0RjRMNH0MbaTupqtPEmHGR6Jn3r/jmW30/0pbDHiPL7YY9nSHWn0Zw00MKOI3/Rl06ZN7qCDDvLVlevzzjuPsoeXXHIJDbwGO/nb3/42sJV14yHJ7/jx44M20LPgbgRd46xAX7Cdo8Wmfv/736fxrF/5ylco0wlmlGGFLQ/WV/Rl/vz51Mfpp5/uVq1a5XeXZmQPKnkKjZH2qrXcZWGLseVG1k2H2F4XmmCrgOV7yUowjPQTrI3mQ+ta1t4VtjaYDy1fj+YjS489Q+ZDO8sR42P1tWzt8D1gwADa5t3vfjftGtvfpBVLoLTvjCWYRBtCORCwxViOebRRlAABW4wlmEQbQjkQsMVYjnm0UZQAgT5CKUcdVLh+/Xr35z//uW2GPmTIEJr8Fwzh0qVLg3H069fPdXZ2Bnoc1zZy5MhADwXasOS/CHBmQc5gNO++++7AFqYCb86zZMW33XYbjQMFgcPmA4QTi1sFYzt9+nQa+A02leU0BYmC8fsC9pyRTggGf+ONN2hqDzCwLPHy6NGj3QEHHOC7qByFN27cuED/5ptvqoHtQeUWUIDk69+/f3ZPsBh7o5x11ll4CAU/QvtTOF5++eWgbtJeqHRaJguL2rrjjjtofdiTwGvaBv1K/KV/S2oPqt99992pHm1lH4760MYhWzHUlgSKU326f/5nWYy0jWzR0D71JqX9myp3i4kh0AoI2GJshVmwPhgCgoAtRrsNDIEWQcAWY4tMhHXDEKh7OBwCmc8991yKNFg1+YIelCGQmgVyg4mbM2dOUB/sHUumi4onnHCCY+kW4AN5TX1BmgcmiFmdNm0aK3JPPfUUjctdvXq1A2vrC5hXZgv6iy++mLKgeOOd5UHV3tqHTzY+vy/paxyThxhcX9asWUMZUMTEol++gOkEXow1/dWvflUJifPbaNePPvqo+/GPfxwUg63VQui01B7ICavlmQ0ciAJJqK+55hpW5DBGxnpr9/R+++3nTjnlFGqrS1lvtkqAoeyZdGCLxDXSMo29A9vHRN4WoXbgQ+h61mRLLJtKjWxVav3VmE7UZyKJkNVx3HXXXazJFlnUtE0eNpU6EKVkB6c+ZNtGa6Lqd9llF2pLY1MlNQqtj7nVfmSR0rJLL71U7RcrWLFiBbUDv7KlRMv23ntvqp80aRJzUaWzf1MFWRNDoBUQsMXYCrNgfTAEBAFbjHYbGAItgoAtxhaZCOuGIRDNpiK3JctviRdN2QlGYJe0N8vxMiuLbQSjydposX2wwepjesEEMjZuw4YNlbhH/xbQXiJGcuF7773Xr165RtwhGDxfwCjipWBfEE/K+rRx40ZaH+215MbCANA2iCdlvmHrnnvuqbCd+JyWQw45hLbB+Bi+SMbMxgGbn/70pymbijbsSDgt8wLGzcaB+iz2Fr4xhyxrQt++fVEcCI7IAyPuC04WY+P266WvsQ5Yf9mY0+0qn6vonBouwHpJw+AHLFkripwrGPQV/deYTgGfDiMrNnXJkiW0DWJTGVZaDCirm+iKZFMTm/5vedjQcWjKhQsX0vHBriwi2qwRbKpsh1DfmlKOwqPjkIWlNVH1snVCbRmbKneFiSHQLgjYd8Z2mSnrZ+kRsMVY+im2AbYLArYY22WmrJ+lRyCaTW0EIps3b3b48UW+NVOGDvW0MuiZaHqwcOxkJRazmdhF0lzWRmMIk3Yxv3EkXb19ILkx84GEyyzpcpHj07DI4wPZCtg4EMvK4kk1343WR6fdwI3HMjaDugUFXoQg6FsYrsAUtkIYyEHFlOLaa691kydPTmn+7yOOB7v55psDPVJosBQTQcWUArlAcZybL1/4whccEhn7giB4RnUjpYmWKBl0ObZjfPnyl7/sZs2a5asrgfbMBx42bDsJBg4++GB6JNzMmTPdvHnzAh/f+c53Kik8ggJRYEuC5TxFihD2EgC2I9i20tVXX+1mzJjBXKg6LDoEkvsisanuwgsv9NWVunjY+YJtOW07za+bXOOhzfLGYptLO5czaRv9l1EDLTHYar/R39122y3olpaYV7tRAwMpBXs7AcXYT2S+U02rPmp/rasqeRexPrzmPbpki607g7EPbIyv3oLFi58ipLsFl+XDvjNmoWNlhkADEbDF2ECwzZUhkIWALcYsdKzMEGggArYYGwi2uTIEshCIJnCyjLEypJKQ+FBWVEmh8ZnPfCYokzfLHY4080VLpwCGEH4QpOsLSyKMOp///OdpguEnnnjC3X777b6ZyvXXvvY1yoiBOWREQ0dHB019gXQV7CxLEDjf+973KP1+xRVX0MDoPKQPHZwor7vuOrqlNGzYMNoE45Y426AMbKk252Cw2ZycffbZ7oEHHghsDR061Ensb6DHUXQ33HBDoIcC6S2QvNqX/fff31dVrm+55RYH1taXLOZZK5PYWydxzL4phyTNYJ8zRSazrpKVdmPRokV19Z3HOAKyBTD6I9sXUSbzBIrL1g31gQB21i+kD2mWZAWKs75Ct3z5ctrdY445ho5PcuzQ+vLQpPXho6hAcXnAqj60Mku7ITNgYgi0OwL2nbHdZ9D6XxoEbDGWZiptIO2OgC3Gdp9B639pEIhmU5F64ic/+UkAAMLOWDwp4iNxzBkTMJeIrfQF6RRYgLAW05nFpvq2k2ukmPjc5z6XXHb9hl+W/FdYBPfVr36Vhk198YtfpDGlCBdjthB0PXHixC6f6Q+IYWQChpmxdMCEYTho0CAH9jdGLrjgAvfqq68GTbT5QAwvGx8wBHvIhLGvqIdwNGZLGx9iT7X7SnLlOjnpK3B/9NFHuyOPPDLQg/llthBjqs0HkiuzMEiEU7JxaOGXVZ2hVFWGssi0GxKYTNkqLSmwBIrT+jIgVa8l80XyXyZZbKrmJzbthpbEmPWnO52WxFi2hrprGpRr6UC0+cg6Ek5LuxE43arQ2NQ999xTnVvNlmwd0TaxSYw1+9AjJQe7H4xNrXq82IUh0J4I2HfG9pw363UJEbDFWMJJtSG1JwK2GNtz3qzXJUQgmk0Fu8UYMTCELIYQmIE5ZG9xow2zBZaK6RF7ijfxfZHv05W3x7WktswW3shm/UXMoxAWvotKUlz4YW/PIwkus4X6zBYyA7D6cCpEBo1zDTq0VQFbzIeQK7QJWEgkMWaCmFmGFeoyPeaP+Qa7/cMf/pBmFNDiizVbyO7A4n7hQ8MQbTAWXxhD79ep9RrxuojN9QV9ZVhp92ZVe7lhokRjU+XsRMouibMtkoGc+ohlU2WQ1E6Wsqgkxlk+5IakY0dsKhOh3Wl9YKXFpjI7eXTPPfec6ltjq7XxaUfCPf3006oP7T7RjoTTxpgVmyrbJNR/kWyq1i9LYlz1eLELQ6A9EbDvjO05b9brEiJgi7GEk2pDak8EbDG257xZr0uIQDSb2ggMwJQx0fTyZdqtW7eONakkN6YFihK2WA5UVEcOzZhUjmDbmC32lr/SnS418o0yNhAxjzvssENXvVb4AMa9KAH7i6TEvsTmtvXb9/Qa9xvuFV96MvboxYjgY3m73O9DhfrXblTtXDykWUC6DF/mzp3rVq1a5atpYC4qIRM2o5NRhtQMLLUHgGSBvvfdd59qCwuL5UH9xS9+QRcKAstZv7AdoCVj1vJuHnrooU6YUAypSjAX8+fPr9JlXQwePFj1rWGChyCbWy1vKsM16dN3v/tdN2rUqOSy6ze2NpggTQe731BXw1Abh+aD+e1Oh60jdiYnEiVjW8cXtj3j14lejEiPXlSKdLYXhA5q9rMm2R9Ycg1bOHy1VskzYdpfpqy9pZg+1dr3WuphUdXbN1u4Sd+AVVH+i7KT9K2I39gLz9sv+85YxAyYDUOgAARsMRYAopkwBIpAwBZjESiaDUOgAARsMRYAopkwBIpAIJrA0ZyCUTzppJNoMVhTFrg8ZcoUh9Qbvkj8osMRaL6AvZM3v3115fqmm26iCYa1I9aoEVEiwa687R8Ug2I/7LDDKAOL/jL6fezYsdSWxOrScYAWB0nFCBAk5pW3yIN+aXgEFbcq1q5dq6bE0JjOc845hwaXawl7wZCz+UMXWHC11tekvmZLa4cE2OzYQmxN4dg9XzCvSGTsy5NPPkmPE0Q9bYcgdnxpn4UtRhxuyqh3ONM6+OKLL9I2oP7ZWYSIxtfobNz4e+yxR3psuT5j64Kd5wi/2sMG2xcYiy8SNExt4W0DDSvfRnKNhcj6lZTX+hsLRfONBw4T7HGyNthCwFsuMVILxZ+2h/rsXkjX8T+jT2wvFw9zNg5JEO2bqFwjBw6rj0L0i93XseNLO7Z/U9No2GdDoIkI2GJsIvjm2hBII2CLMY2GfTYEmoiALcYmgm+uDYE0An3kS3gY7Zqu4X1eunQpZdYQvwhWkQmS47J0GYipXL16ddAEqS1YwC2IhKeeeiqojyGA9GGpPcBCImFxrfL444/To7vwZX7lypU07YZmG4l8r7322qAYPm699dZAD0IATCoLowM7yKYKJNFxxx0X2NIUzz77rEoEIa7yU5/6VNAUSZpXrFgR6BHaNmLEiEC/cePGClZBgSj22msvykRqhAjCy/DDRIvJRUww5ssXsKMswBzxwIyVRuwpGGMm2CFgrDdIRNYGiZLPPPNMZur/dViMMaKl3ZAOxJjJVVeymdN0CjIaVS/ZpaN85UlijHQgrA9a2o2oDm2tXNSRcMIO0r6i/8CXiWQzp22KTLshOWWoD+1IONbP7nSSi4n60BIPy0NANYkyNuearUmTJqm2kgL7N1UQNTEEWgEBW4ytMAvWB0NAELDFaLeBIdAiCNhibJGJsG4YAtHhcIjvQ+yfLzjSS8gSX11hAMFssReGwXKyeMtf//rXlDVFXCXzLV+A1STG2ouenZ2dTvJ7Bv194YUXqA+kvED8KWPQwBQzBg1xpgwTsM6MtURIIXtLHJ1Eeg05USvoL8YeI2AmGYawAZaXHTv32muvUd/aMWc4Rk3zgTA19jI2cGXjY/cN+oqj6+6++258DOSTn/wkZe8R9sb6BTYV968vWaFtCIFkaVCwE8DGkWWry2/C5PT09/Llyym7JI5U/aJFi6jbmTNn0jZgLYsSSeVAfYC1ZCI3Ka2P8UmsKWuyBWwqGz+SAjOR+FZaHzYkWJqWYRxFicYKo79sHBqbmtUfsO7MViybmpXEWM5OzOpCIWXGpsosmhgCZUXAvjOWdWZtXG2HgC3Gtpsy63BZEbDFWNaZtXG1HQLRbKo2QvaipVY30YOlYy+ngiljgnhVVh91UcaOawPTyVg/FrsIO2DImA+tT2hTlGhJmvPYRy5ZFocJW4ifjEl7yeKEYQexmwwrYMjia9FGE83Hm2++SX2sWbNGM+XAurN+gTXV4qeZMYyPJaFmdRNdj+awEGpJjNx///2UJZNObpGtii0S6Bz8aEfCacyadmQZfGg/srVAhzh9+nTaRmMtYV/OYQzGgHHJ2/PUhyx4Wl/eqKf1s9jU22+/ndqSG4bakjQSdHwYB/rMBP1i8/TZz36W2pJFTfXaXEC/bNky6uPoo4+mtrSY3CwfRR0JJ8HxtE/wLVsVtOyyyy6j45OHCoO8SlfYX0a2/yadrggSA7O/Tkm5/zvmqe23rfU6q7+ajdhxYE8PP0UI9u5iMMzjU0vgrP2VyzNP2jiK9JFn7EW1wX5i3nmy74xFzYLZMQR6iIAtxh4CaM0NgaIQsMVYFJJmxxDoIQK2GHsIoDU3BIpCIJrA+eY3v0mPIMMXV+Q1ZcICalHvmmuuqQT8+m2Q25MdNwaqmREioJPhgwXjXn311W7WrFm+i0pgN+tv1jg0+j0wnlMB+6xPMHfhhRfSo9GQEmPOnDmBx8MPP9zJm/uBHoHgwlYHeih+8IMfuDFjxgRlQvnRfoHAYf1FfSQFZiTZ2WefTRM+Y9uB2dp1113p/faHP/zBIU0IkxkzZrh99903KBoyZEigg2LhwoVOWNCgTBs3KuJoRGZPwzYwzhRV3GoNF1raDdm/oVSv+NwiGbRrsFyfKpJ7hPZLJovqs7Y2ZM+pPp3cajVra0PrV2ygeJFpNyRLPMUQcy77zhSrVgwUv/LKK+k45MFM9Rgftj2KFvs3lT2hTGcINAEBW4xNAN1cGgIMAVuMDBXTGQJNQMAWYxNAN5eGAEMgOonx7Nmz6TFnCGc68sgjmQ933nnn0bQUtLIo77zzTicxjEExUmh8+9vfDvQI+garyAQMHUKwfMGxbOyEIaR5wIlWvoDhRdAwC9vSki7DLwtIR8qGefPm+S4cUn6MHz8+0EMhZAEN7h4wYADFdvDgwZQh3LRpE/UNH+vWrXMs0FnDUOsTgtTZEXnwgSTUjJVG+hWWggX4sZPHELivBYsjEJ6l9gATD0beF80Wxif5Tv3qleszzjjDDRw4MCj7xje+QVPGDB8+3J177rlB/SpFLCOksalFJjGOTbsheVVU1ksLFC8y7YaWrkJjbItMu6H5kFwvsVO7RRsH5iNGJLeQOh8a6477ismCBQtUW3Ij0zItUHzo0KG0vpZ4WBYv61KmTjK8Ux+WxLjqsWMXhkBrI2DfGVt7fqx3vQgBW4y9aLJtqK2NgC3G1p4f610vQiA6NhVsm4RBBRCBhZQ8qIEeiqlTp9J0BzheDse8+QLGS3Jy+urKkW/MB5jOkSNH0lhIllwYhsE2Mh+IkWQ+wOppPvBSLhhSXxCbGYMVWEjJfkBZUzCz6LMviA9lPmLSSyQ2wfixcWA+GCaIG2XJmIEHwxZ+gAljbDF25gMML7OlxSnDhzAsFMO+ffvS+xBsOIufZsw57GcJ1gGbD8boB3YyqSFSqLGpGksmDtXYVC3tBo4gY5J1JJzkPGFNonVZR8LFxqZqSYw11hJYCY0f1edp06ZR9i4Pm6o5jj0STrOTpT/mmGPoOIo8Ek7zr8WmGpsaPC5MYQj0DgTsO2PvmGcbZRsgYIuxDSbJutg7ELDF2Dvm2UbZBghEs6lIKsuEMWRJPSSUlS/PyWXXb80WkhsjdtSX1atX+6qu62eeeYbGgWpZA7REu4zd7XKifMD4tJhH1oTFZib1JDcrTT6sjYPFvia2mvUbCa1Z3C/6g+PStJSQzepvy/jVGCZNr7GpiE3F293+DxLjymDpj5YEVzuCTAKWqR3NPvQy+bSNFtOJpLn+GJJrDROtv5oP1E9spn/Lw4b2FePQ3vQ/88wzqS1ZvFp3o/Xy4KI+oGeSFZuKowOZxPpgNvLq5OFIx5cHw56MI/ovo9wYqrC8NQKQWr9VC9g4iu4r85FnXwv7jMxWkf3FPhw7OqHdfGj9xd4ny9ej1c/S9wQr+86YhayVGQINRMAWYwPBNleGQBYCthiz0LEyQ6CBCNhibCDY5soQyEIgmsABhc+CkOXtauoH5IIwaLQMiWDZuYdImyBveAdttOBgbKtgu4ARGcJW0uTGN998Mz17D1sIONPRl4SIYicv4dQhhgkS2s6fP9835eSIPNUH0kUwHxLn6g499NDA1qBBgwJdlgKpKkaMGEGrbL/99k6yJgRlcnyeExY90N96662VlCp+AeaC4YF6bAsIeqRNYalWDjnkEIcXCuop1113nZs7d27gQgtqR0U5AtFJ/G/QRo7Pcx0dHYF+3LhxbvHixYE+rYhejMgjwvKbsIUAR7ixkN2aCTJ9M1u4IbU2zE4eHbJtM9+IrkfW7RjRMEHuGDYO2I/18aEPfYjaiukn6mKhaL7xwGH5ZvBGBRPsE2u2WH3ogBUT7C0zW2yOWPue6DZv3kx9I7s8HuZM8NBmgv6ycWB83Yn9m9odQlZuCDQIAVuMDQLa3BgC3SFgi7E7hKzcEGgQArYYGwS0uTEEukMgmsCBQXbslXaOucTquWOPPZb2A0zZEUccEZTtv//+gS5LgWDpE088kVZBiBn64IvEelKGEImEOzs7/eqVQHckad5uu+2CMjBrTK+RWvvttx/1DbIADB4Li5MMBO6OO+4IfE+YMMHJ2/6BXlMg9QRjRlEfpATr88aNG92UKVMCk2BfmS0QGI888khQP/HBCpCugt1XwIT5BumiBZxjvhmG8MFeTgBBxXyjn8w39EgezQT3IUsTIjlbWfVqXWxwbVagOLMlVLYa/Cw5T1iTaF1WEmMtUBzpKpjkSbuhBYoj7UZRggB2mbngJ/ZIuDz9iU27kSdQXEu7seeeewZjZjikdc1MYpwH36SN/Zta/WyyK0OgaQjYYmwa9ObYEKhGwBZjNR52ZQg0DQFbjE2D3hwbAtUIRLOpiBuVXJbVVuRKi0UEO8jqw8Buu+0W2MmjAHOm+QDjNpgk/0VYFjte7tlnn3VCGtBuIJSMCcLeWJv169dTHxprmcWmStYAmmCY+UUfkbaExQQjNhSMKXuZFv4RAuYL4oeZH3bsGtqCzWT1UQYfTDAfrA3uKza3YNC1xMCIVWbjQxvmA3gwPWywewT9R2JuJHH2BXG0YOR9QWLjiRMn+urq64TJ6W2/tSPhtPQWgtoWLYmxxqZqaTeykhjDD/sByxsjt9xyC7XDbCc6La2JNj6h8GmXimRTZSFSH3mUshgoJtqRcPJgovWB14oVK2gX7Eg4QcfEEGh3BOw7Y7vPoPW/NAjYYizNVNpA2h0BW4ztPoPW/9IgEM2mgiHMk+i3WYgNGTLEISaxGcJiYtEP7cXUrD4iFpPJ2rVr3aZNm4KiPHOkscXaOAKnWxVZ4wNbzY7p014i1pI0Q4/E1UzAjLLMEywuFe217APC0DDzFR3YavaidNbYVWNJAaWEMpTydr7KMInNlitbuXJlxmjqW5TnSDgNQ41NLfJIOI3lnTlzZhRQWWyqbFXQe0QCtaleY1OfeOIJWh/4Pfroo7S/RbKpGtN61VVXUd+1KO3f1OSpZL8NgSYjYIuxyRNg7g2BBAFbjAkS9tsQaDICthibPAHm3hBIELDFmCBhvw2BJiMQvbWh9Xf06NF1Tzar+X799ddpELVWP48e2wcIkmeCgGG2lYCUDcLsBU20QHFsISDPLDvxSeJDAztQIBE0S7uhpUGhRrYqkdqD0fzXX3+9Y0HhSIb84IMPBiYRmM/GjYpIwcLof4ydbUdo535i+0LzccABBwR9gkLzgS0d5huB4iwNCWxpZRIT7C655BJUqZLx48e7O++8s0rnXxS2GPHmBHKilFVwU7Bs2xivlokbb0AcdthhdYVkr732cvgpQkaOHEnNLFy4kI5dzt6k9bGvq40bC5G1w/3D9OztCzjF4tF80E6JUvOBhx/zjfnT3jLRyrDg2X2i7ROn+2r/pqbRsM+GQBMRsMXYRPDNtSGQRsAWYxoN+2wINBEBW4xNBN9cGwJpBAojcNJG05/xhX3y5MlpVe7PYO9mz56du3264U033eTuueeetKryuX///u7GG28M9CAMLr300kAPBeww9nLVqlVu0qRJQRsc44ZjyGLktNNOcwjS9+Woo45yp556qq9Wr8H6nnLKKbT84osvdgcddFBQhoBoloQXLCQbX1ZKjJNPPpkys2BGJX4z8A1bzAeCvrUXAECigKzxBYw4Gwfm/KSTTvKrVxIeaz5uu+22oD4Uw4cPp7YkmwCtX6WsJYA1XUcLFEe6ASYCphrQKx2JKkOgLxM5bku1owWKa2k3kCw4VrS0FFraDdSPlaKSGD/33HMqVnJMHu2WlsRY8rqotrS5lbw81EczkxhLVnvapyylPKDo2C1QvOrxYheGQHsiYN8Z23PerNclRMAWYwkn1YbUngjYYmzPebNelxCBkHIq4SDZkBADyhguHO0mX8KDJmDo5As9jVUEk8ps7bTTTvTIOyTmZT7gdPr06TQ5L46wYzGrSJjLbGmMIo4/E7KtEgPrD5Klw0AdhH6x8QErdqQf4ltZSgrYAiZMDjzwQIcYY1/AYiMBsC9ZbKqWxBj22TgYEw5/GzZscIsXL/ZdV64Rf4v7wRctdYlfj15nMUasrOxsalYSYwGQMmhaugrtSDg5Z5Hagf1XXnmFwb5FY1M1xlY7Cg8+5KakPjSlxqZqSYw1O83Wa2k3NDYViYq1OZcHFC0zNlUQMzEE2h0B+87Y7jNo/S8NArYYSzOVNpB2R8AWY7vPoPW/NAj0WjYVbBxYQl+EZKB61AMDywRxkIw91N4SByvK6mf5QH3WBswhGwdYPaZn/U90kouUvkyL+GLmG3h0dnYmzbt+a0fLoYJWNmDAAIcfXxBLu2bNGl9dyUjA+oSKyIrAGFLMB2uj4YQXm1l9+IAtdj+wmFjUr0liGa7ezKZqR8LFYlhkfS2JcR42VWOFtSTGkgGAMopy46l6LYnxRRddRGFZsGCBakvzI0Hn1FarK+3f1JoeWVbJEKg/ArYY64+xeTAEakLAFmNNMFklQ6D+CNhirD/G5sEQqAkBW4w1wWSVDIH6I1D3rQ1Qw0idUIRoOTTz2D7nnHOcxFwGTUHja1sSWiB1YCSnYt26dTQoGub69evnXnrppcAygqgZNQ9qX2Irg/rwsfPOOwd6KJD/ldlatmyZE1YzaIMUE8yHZBNwSK/BZO7cuU5iWoMitq2BSlOnTqX1cT4iUpEwQSoSdhYjfJ9//vlBk29961uVZNB+Ae4D3A9Mfv7zn9MUJaxurbq6L0Z0RNurqbWT9aiHPDT4aSUR6p1m9EYfcVOwbN94QLFEu1hULCnx888/T+3AB/wzW9hPY75Rn/nA2xzMDnxgD5C1QRkTZGvHjy+4pzQfWESsv3iThQn0rL6GB2xomc6Z/Vp19m9qrUhZPUOgzgjYYqwzwGbeEKgVAVuMtSJl9QyBOiNgi7HOAJt5Q6BWBPrIl1TE/tUsEkNIk/kinQLYtWYIvoA//PDD1LXkTXVI6dBTwclCOOKNyQUXXOBGjRrFiqiuo6PDXX755UEZgrvHjBlDCS+QFYzpxPSxgOWXX37ZYey+4DQksLKszdixYymb+9BDDzkwpL6AqNlxxx19deXoNRyBxnxg7Ix40U7y2nbbbR07wQmE1oQJEwLfUGhJlHFq1cEHHxy0+eUvf+keeeSRQJ+V2uP++++n4wPDq90ngQNfgcUYI1qguNiNDuhtRBstiXHMmFFXbm51fEuWLIkylyftRpQDqSznBKr91XAvMomxLDjaZdkeov0aNmwY1cs5jFSPMTRThM2l/bK0GzIzJoZAuyNg3xnbfQat/6VBwBZjaabSBtLuCNhibPcZtP6XBoHocLgY1rAVUOrXLwylytMvhF+xo8lgS4ur1PygvmaLMaaanSz9wIEDqQ8wmUgNweJ8WdgZfIAlZwmGt9lmGyd5W2k3mH1UHDdunJNTw4I2SFYsZE2ghw8hdwJ9sxVgclncKhtDrX2N3tqo1bDVMwQMgTgE7N/UOLystiFQNwSi/02tW088w3GhCF7jHJdK4rcclqxJXgR6+5w37d/URgOf9wbR2tni1ZDR9TbnOjYoqdti7DnwCHBopPCcqDE96O0L1OY85m4J6xa2GOMnotGLLRx8zzTZi7c3LEyb8+o7qKdz3qPFGDcZ7b74qoEPr3rH4rQ5T898sXMevRi7n4yyL7r0ZGR9zp6opGVPn6aJnXr+tjmvFd2ezfn/ANNATjcpIMPNAAAAAElFTkSuQmCC)\n",
        "\n",
        "### Join our Slack for digital skills support: http://go.unimelb.edu.au/6mhi  <a class=\"tocSkip\">\n",
        "\n",
        "### Keep an eye out for upcoming events: http://go.unimelb.edu.au/ye2i  <a class=\"tocSkip\">\n",
        "\n",
        "### Let us know if you're interested in signing up for the Grok course by completing this form: https://go.unimelb.edu.au/6mne  <a class=\"tocSkip\">\n",
        "\n",
        "### Contact us: researcher-connect@unimelb.edu.au  <a class=\"tocSkip\">"
      ]
    }
  ],
  "metadata": {
    "kernelspec": {
      "display_name": "Python 3",
      "language": "python",
      "name": "python3"
    },
    "language_info": {
      "codemirror_mode": {
        "name": "ipython",
        "version": 3
      },
      "file_extension": ".py",
      "mimetype": "text/x-python",
      "name": "python",
      "nbconvert_exporter": "python",
      "pygments_lexer": "ipython3",
      "version": "3.8.6"
    },
    "toc": {
      "base_numbering": 1,
      "nav_menu": {
        "height": "246px",
        "width": "252px"
      },
      "number_sections": true,
      "sideBar": true,
      "skip_h1_title": false,
      "title_cell": "Table of Contents",
      "title_sidebar": "Contents",
      "toc_cell": true,
      "toc_position": {
        "height": "47px",
        "left": "1083.25px",
        "right": "20px",
        "top": "110px",
        "width": "262.75px"
      },
      "toc_section_display": false,
      "toc_window_display": true
    },
    "varInspector": {
      "cols": {
        "lenName": 16,
        "lenType": 16,
        "lenVar": 40
      },
      "kernels_config": {
        "python": {
          "delete_cmd_postfix": "",
          "delete_cmd_prefix": "del ",
          "library": "var_list.py",
          "varRefreshCmd": "print(var_dic_list())"
        },
        "r": {
          "delete_cmd_postfix": ") ",
          "delete_cmd_prefix": "rm(",
          "library": "var_list.r",
          "varRefreshCmd": "cat(var_dic_list()) "
        }
      },
      "types_to_exclude": [
        "module",
        "function",
        "builtin_function_or_method",
        "instance",
        "_Feature"
      ],
      "window_display": false
    },
    "colab": {
      "provenance": []
    }
  },
  "nbformat": 4,
  "nbformat_minor": 0
}